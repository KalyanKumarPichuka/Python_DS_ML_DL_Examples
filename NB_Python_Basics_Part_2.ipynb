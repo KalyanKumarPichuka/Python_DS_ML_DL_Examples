{
  "nbformat": 4,
  "nbformat_minor": 0,
  "metadata": {
    "colab": {
      "name": "NB_Python_Basics_Part_2.ipynb",
      "version": "0.3.2",
      "provenance": [],
      "collapsed_sections": [],
      "include_colab_link": true
    },
    "kernelspec": {
      "name": "python3",
      "display_name": "Python 3"
    }
  },
  "cells": [
    {
      "cell_type": "markdown",
      "metadata": {
        "id": "view-in-github",
        "colab_type": "text"
      },
      "source": [
        "[View in Colaboratory](https://colab.research.google.com/github/kalyan369/Python_DS_ML_DL_Examples/blob/master/NB_Python_Basics_Part_2.ipynb)"
      ]
    },
    {
      "metadata": {
        "id": "CYERPriT5-vk",
        "colab_type": "code",
        "colab": {}
      },
      "cell_type": "code",
      "source": [
        "#*************************************************************************************************************\n",
        "# PYTHON INPUT,OUTPUT AND IMPORT\n",
        "#*************************************************************************************************************"
      ],
      "execution_count": 0,
      "outputs": []
    },
    {
      "metadata": {
        "id": "Imx_ME_965_1",
        "colab_type": "code",
        "colab": {
          "base_uri": "https://localhost:8080/",
          "height": 51
        },
        "outputId": "b479b125-2332-4360-bd86-e2c6ea7ee622"
      },
      "cell_type": "code",
      "source": [
        "#print fucntion is used to output the data to the standard output device\n",
        "print(\"This sentence is output to the screen\")\n",
        "a=5\n",
        "print(\"The value of a is\",a)"
      ],
      "execution_count": 2,
      "outputs": [
        {
          "output_type": "stream",
          "text": [
            "This sentence is output to the screen\n",
            "The value of a is 5\n"
          ],
          "name": "stdout"
        }
      ]
    },
    {
      "metadata": {
        "id": "erQ7IljQ7UVy",
        "colab_type": "code",
        "colab": {}
      },
      "cell_type": "code",
      "source": [
        "#Space after the string in the last print is by default, however it can be changed"
      ],
      "execution_count": 0,
      "outputs": []
    },
    {
      "metadata": {
        "id": "MAGeSmtO7mih",
        "colab_type": "code",
        "colab": {}
      },
      "cell_type": "code",
      "source": [
        "#THE ACTUAL SYNTAX OF PRINT() FUNCTION IS\n",
        "\n",
        "# print(*objects,sep=' ',end='\\n', file=sys.stdout, flush=False)\n",
        "\n",
        "# objects are the values to be printed\n",
        "# sep value has to be changed to remove the space in the above print function. Its default value is space\n",
        "# end is the value that is printed after all the objects are printed which defaults to a new line\n",
        "# file is the object where the values are printed. By default they are printed to sys.stdout which screen. "
      ],
      "execution_count": 0,
      "outputs": []
    },
    {
      "metadata": {
        "id": "arkyuP1VNxvx",
        "colab_type": "code",
        "colab": {
          "base_uri": "https://localhost:8080/",
          "height": 34
        },
        "outputId": "c1e1dca9-4097-4673-8eab-ae05acfc99ff"
      },
      "cell_type": "code",
      "source": [
        "print(1,2,3,4)"
      ],
      "execution_count": 5,
      "outputs": [
        {
          "output_type": "stream",
          "text": [
            "1 2 3 4\n"
          ],
          "name": "stdout"
        }
      ]
    },
    {
      "metadata": {
        "id": "7NuUwZ7wN7-P",
        "colab_type": "code",
        "colab": {
          "base_uri": "https://localhost:8080/",
          "height": 34
        },
        "outputId": "fd14fdd9-1916-4263-9f15-2217a10a529d"
      },
      "cell_type": "code",
      "source": [
        "print(1,2,3,4,sep=\"=>\")"
      ],
      "execution_count": 6,
      "outputs": [
        {
          "output_type": "stream",
          "text": [
            "1=>2=>3=>4\n"
          ],
          "name": "stdout"
        }
      ]
    },
    {
      "metadata": {
        "id": "qvCGjLfOOCns",
        "colab_type": "code",
        "colab": {
          "base_uri": "https://localhost:8080/",
          "height": 34
        },
        "outputId": "6ba0f78a-bc28-4027-fed0-b0721ed3f44b"
      },
      "cell_type": "code",
      "source": [
        "print(1,2,3,4,sep=\"=>\",end='%')"
      ],
      "execution_count": 7,
      "outputs": [
        {
          "output_type": "stream",
          "text": [
            "1=>2=>3=>4%"
          ],
          "name": "stdout"
        }
      ]
    },
    {
      "metadata": {
        "id": "HlUtnGzBO3ad",
        "colab_type": "code",
        "colab": {}
      },
      "cell_type": "code",
      "source": [
        "# OUTPUT FORMATTING\n",
        "# Sometimes output has to be formatted to make it look attractive.\n",
        "# This is can be done by using str.format()\n",
        "# This method is visible to any string object"
      ],
      "execution_count": 0,
      "outputs": []
    },
    {
      "metadata": {
        "id": "Ae9pewFqPbya",
        "colab_type": "code",
        "colab": {
          "base_uri": "https://localhost:8080/",
          "height": 34
        },
        "outputId": "6c7ed66d-932a-4dbc-b05c-f41b5f2d3126"
      },
      "cell_type": "code",
      "source": [
        "x=5;y=10\n",
        "print('The value of x is {} and y is {}'.format(x,y))"
      ],
      "execution_count": 9,
      "outputs": [
        {
          "output_type": "stream",
          "text": [
            "The value of x is 5 and y is 10\n"
          ],
          "name": "stdout"
        }
      ]
    },
    {
      "metadata": {
        "id": "5WnFW9VBPm0m",
        "colab_type": "code",
        "colab": {}
      },
      "cell_type": "code",
      "source": [
        "#In the above example, curly braces are used as placeholders"
      ],
      "execution_count": 0,
      "outputs": []
    },
    {
      "metadata": {
        "id": "QdpTmwG8P59q",
        "colab_type": "code",
        "colab": {
          "base_uri": "https://localhost:8080/",
          "height": 51
        },
        "outputId": "56739c2e-b15e-4a01-a760-0b209b906d75"
      },
      "cell_type": "code",
      "source": [
        "#We can also specify the order in which they have to be printed using tuple index\n",
        "\n",
        "print('I love {0} and {1}'.format('bread','butter'))\n",
        "\n",
        "print('I love {1} and {0}'.format('bread','butter'))"
      ],
      "execution_count": 11,
      "outputs": [
        {
          "output_type": "stream",
          "text": [
            "I love bread and butter\n",
            "I love butter and bread\n"
          ],
          "name": "stdout"
        }
      ]
    },
    {
      "metadata": {
        "id": "lW0GgQY7QoR5",
        "colab_type": "code",
        "colab": {
          "base_uri": "https://localhost:8080/",
          "height": 34
        },
        "outputId": "47e16f8e-172c-48eb-9046-81b7a39ba7d4"
      },
      "cell_type": "code",
      "source": [
        "#we can even use keyword arguments to format the string \n",
        "\n",
        "print('Hello {name}, {greeting}'.format(greeting='Good Morning!',name='Kalyan'))"
      ],
      "execution_count": 12,
      "outputs": [
        {
          "output_type": "stream",
          "text": [
            "Hello Kalyan, Good Morning!\n"
          ],
          "name": "stdout"
        }
      ]
    },
    {
      "metadata": {
        "id": "k8rDEQkGRTGT",
        "colab_type": "code",
        "colab": {}
      },
      "cell_type": "code",
      "source": [
        "# PYTHON INPUT"
      ],
      "execution_count": 0,
      "outputs": []
    },
    {
      "metadata": {
        "id": "nmcPjgvKS3or",
        "colab_type": "code",
        "colab": {}
      },
      "cell_type": "code",
      "source": [
        "#num = input('Enter a number')"
      ],
      "execution_count": 0,
      "outputs": []
    },
    {
      "metadata": {
        "id": "Ogtb0QZjS8Rd",
        "colab_type": "code",
        "colab": {}
      },
      "cell_type": "code",
      "source": [
        "#PYTHON IMPORT\n",
        "\n",
        "# When python program grows bigger it is important to break it into different modules\n",
        "# A module is a file containing python definitions and statements\n",
        "# Python modules have a filename and ends with extension .py\n",
        "# Definitions inside a module can be imported to another module or the interactive interpretor in python\n",
        "# We use import keyword to do this"
      ],
      "execution_count": 0,
      "outputs": []
    },
    {
      "metadata": {
        "id": "egPPobapb86x",
        "colab_type": "code",
        "colab": {}
      },
      "cell_type": "code",
      "source": [
        "import math"
      ],
      "execution_count": 0,
      "outputs": []
    },
    {
      "metadata": {
        "id": "HDIvr154b-Zr",
        "colab_type": "code",
        "colab": {
          "base_uri": "https://localhost:8080/",
          "height": 34
        },
        "outputId": "08c0ab00-0a8a-427e-ea86-e0f875ab6187"
      },
      "cell_type": "code",
      "source": [
        "math.pi"
      ],
      "execution_count": 17,
      "outputs": [
        {
          "output_type": "execute_result",
          "data": {
            "text/plain": [
              "3.141592653589793"
            ]
          },
          "metadata": {
            "tags": []
          },
          "execution_count": 17
        }
      ]
    },
    {
      "metadata": {
        "id": "56rhSF5ecAHY",
        "colab_type": "code",
        "colab": {}
      },
      "cell_type": "code",
      "source": [
        "# While importing a module, python look at several places defined in sys.path\n",
        "# It is a list of directory locations as shown below"
      ],
      "execution_count": 0,
      "outputs": []
    },
    {
      "metadata": {
        "id": "nEucy4kFcWV_",
        "colab_type": "code",
        "colab": {
          "base_uri": "https://localhost:8080/",
          "height": 170
        },
        "outputId": "50170a29-eb9d-46ad-f8ad-07d96c2dc09a"
      },
      "cell_type": "code",
      "source": [
        "import sys\n",
        "sys.path"
      ],
      "execution_count": 19,
      "outputs": [
        {
          "output_type": "execute_result",
          "data": {
            "text/plain": [
              "['',\n",
              " '/env/python',\n",
              " '/usr/lib/python36.zip',\n",
              " '/usr/lib/python3.6',\n",
              " '/usr/lib/python3.6/lib-dynload',\n",
              " '/usr/local/lib/python3.6/dist-packages',\n",
              " '/usr/lib/python3/dist-packages',\n",
              " '/usr/local/lib/python3.6/dist-packages/IPython/extensions',\n",
              " '/content/.ipython']"
            ]
          },
          "metadata": {
            "tags": []
          },
          "execution_count": 19
        }
      ]
    },
    {
      "metadata": {
        "id": "hULsLpXAcecU",
        "colab_type": "code",
        "colab": {
          "base_uri": "https://localhost:8080/",
          "height": 34
        },
        "outputId": "15c198ce-47bb-4af1-bc41-ac194f3bba79"
      },
      "cell_type": "code",
      "source": [
        "#Import pi into local space\n",
        "from math import pi\n",
        "pi"
      ],
      "execution_count": 20,
      "outputs": [
        {
          "output_type": "execute_result",
          "data": {
            "text/plain": [
              "3.141592653589793"
            ]
          },
          "metadata": {
            "tags": []
          },
          "execution_count": 20
        }
      ]
    },
    {
      "metadata": {
        "id": "Tnm8l7yrcfW_",
        "colab_type": "code",
        "colab": {
          "base_uri": "https://localhost:8080/",
          "height": 34
        },
        "outputId": "6d1c2abd-6042-4e6a-e401-675c650e7b0f"
      },
      "cell_type": "code",
      "source": [
        "sys.version # to know python version"
      ],
      "execution_count": 21,
      "outputs": [
        {
          "output_type": "execute_result",
          "data": {
            "text/plain": [
              "'3.6.3 (default, Oct  3 2017, 21:45:48) \\n[GCC 7.2.0]'"
            ]
          },
          "metadata": {
            "tags": []
          },
          "execution_count": 21
        }
      ]
    },
    {
      "metadata": {
        "id": "cpovu1G4c4xy",
        "colab_type": "code",
        "colab": {
          "base_uri": "https://localhost:8080/",
          "height": 34
        },
        "outputId": "0ed6f270-cb24-4436-b896-e5ce25085ca6"
      },
      "cell_type": "code",
      "source": [
        "!python --version"
      ],
      "execution_count": 22,
      "outputs": [
        {
          "output_type": "stream",
          "text": [
            "Python 3.6.3\r\n"
          ],
          "name": "stdout"
        }
      ]
    },
    {
      "metadata": {
        "id": "xUmYaiLMdH0G",
        "colab_type": "code",
        "colab": {}
      },
      "cell_type": "code",
      "source": [
        "#*************************************************************************************************************\n",
        "# PYTHON OPERATORS\n",
        "#*************************************************************************************************************"
      ],
      "execution_count": 0,
      "outputs": []
    },
    {
      "metadata": {
        "id": "mAuLPQWKd1gm",
        "colab_type": "code",
        "colab": {}
      },
      "cell_type": "code",
      "source": [
        "# // - for floor divison - divison that results into whole number adjusted to left in the number line\n",
        "# ** - Exponent - left operand raised to the power of right"
      ],
      "execution_count": 0,
      "outputs": []
    },
    {
      "metadata": {
        "id": "BO-Zkm-3ePWH",
        "colab_type": "code",
        "colab": {}
      },
      "cell_type": "code",
      "source": [
        "x= 9\n",
        "y = 5"
      ],
      "execution_count": 0,
      "outputs": []
    },
    {
      "metadata": {
        "id": "DPVjg90aeVKt",
        "colab_type": "code",
        "colab": {
          "base_uri": "https://localhost:8080/",
          "height": 34
        },
        "outputId": "0f5f7c24-d89b-4a50-d8b4-5c036faaf973"
      },
      "cell_type": "code",
      "source": [
        "x//y"
      ],
      "execution_count": 26,
      "outputs": [
        {
          "output_type": "execute_result",
          "data": {
            "text/plain": [
              "1"
            ]
          },
          "metadata": {
            "tags": []
          },
          "execution_count": 26
        }
      ]
    },
    {
      "metadata": {
        "id": "6m3Qttx6eWX0",
        "colab_type": "code",
        "colab": {
          "base_uri": "https://localhost:8080/",
          "height": 34
        },
        "outputId": "d16c642c-1beb-429f-a5fe-d3342a85201b"
      },
      "cell_type": "code",
      "source": [
        "x**2"
      ],
      "execution_count": 27,
      "outputs": [
        {
          "output_type": "execute_result",
          "data": {
            "text/plain": [
              "81"
            ]
          },
          "metadata": {
            "tags": []
          },
          "execution_count": 27
        }
      ]
    },
    {
      "metadata": {
        "id": "6m43gTERebqi",
        "colab_type": "code",
        "colab": {
          "base_uri": "https://localhost:8080/",
          "height": 119
        },
        "outputId": "d3202377-9eb9-4d8b-9760-671823f7dcf9"
      },
      "cell_type": "code",
      "source": [
        "#*************************************************************************************************************\n",
        "# ARITHMETIC OPERATORS IN PYTHON\n",
        "#*************************************************************************************************************\n",
        "\n",
        "x = 11\n",
        "y = 4\n",
        "\n",
        "print('x + y =',x+y)\n",
        "\n",
        "print('x - y =',x-y)\n",
        "\n",
        "print('x * y =',x*y)\n",
        "\n",
        "print('x / y =',x/y)\n",
        "\n",
        "print('x // y =',x//y)\n",
        "\n",
        "print('x ** y =',x**y)"
      ],
      "execution_count": 28,
      "outputs": [
        {
          "output_type": "stream",
          "text": [
            "x + y = 15\n",
            "x - y = 7\n",
            "x * y = 44\n",
            "x / y = 2.75\n",
            "x // y = 2\n",
            "x ** y = 14641\n"
          ],
          "name": "stdout"
        }
      ]
    },
    {
      "metadata": {
        "id": "9uFmCOnHfMgq",
        "colab_type": "code",
        "colab": {
          "base_uri": "https://localhost:8080/",
          "height": 119
        },
        "outputId": "6cf29439-1094-4d6b-8f86-d85d79ef6e9f"
      },
      "cell_type": "code",
      "source": [
        "#*************************************************************************************************************\n",
        "# COMPARISON OPERATORS IN PYTHON\n",
        "#*************************************************************************************************************\n",
        "\n",
        "x = 9\n",
        "y = 13\n",
        "\n",
        "print('x > y  is',x>y)\n",
        "\n",
        "print('x < y  is',x<y)\n",
        "\n",
        "print('x == y is',x==y)\n",
        "\n",
        "print('x != y is',x!=y)\n",
        "\n",
        "print('x >= y is',x>=y)\n",
        "\n",
        "print('x <= y is',x<=y)"
      ],
      "execution_count": 29,
      "outputs": [
        {
          "output_type": "stream",
          "text": [
            "x > y  is False\n",
            "x < y  is True\n",
            "x == y is False\n",
            "x != y is True\n",
            "x >= y is False\n",
            "x <= y is True\n"
          ],
          "name": "stdout"
        }
      ]
    },
    {
      "metadata": {
        "id": "bIzDVSGjgA9g",
        "colab_type": "code",
        "colab": {
          "base_uri": "https://localhost:8080/",
          "height": 68
        },
        "outputId": "a48e2325-f5b1-4ff7-fdda-c0b4babcbc84"
      },
      "cell_type": "code",
      "source": [
        "#*************************************************************************************************************\n",
        "# LOGICAL OPERATORS IN PYTHON\n",
        "#*************************************************************************************************************\n",
        "\n",
        "x = True\n",
        "y = False\n",
        "\n",
        "print('x and y is',x and y)\n",
        "\n",
        "print('x or y is',x or y)\n",
        "\n",
        "print('not x is',not x)"
      ],
      "execution_count": 30,
      "outputs": [
        {
          "output_type": "stream",
          "text": [
            "x and y is False\n",
            "x or y is True\n",
            "not x is False\n"
          ],
          "name": "stdout"
        }
      ]
    },
    {
      "metadata": {
        "id": "lvE-KJf0gTdm",
        "colab_type": "code",
        "colab": {}
      },
      "cell_type": "code",
      "source": [
        "#*************************************************************************************************************\n",
        "# SPECIAL OPERATORS IN PYTHON\n",
        "#*************************************************************************************************************"
      ],
      "execution_count": 0,
      "outputs": []
    },
    {
      "metadata": {
        "id": "J1ZesRunhiA2",
        "colab_type": "code",
        "colab": {
          "base_uri": "https://localhost:8080/",
          "height": 102
        },
        "outputId": "012eed20-6437-40bd-c5ca-85f3c1631aa4"
      },
      "cell_type": "code",
      "source": [
        "# IDENTITY OPERATORS\n",
        "\n",
        "# is -> True if the operands identical\n",
        "# is not -> True if the operands are not identical\n",
        "\n",
        "x1 = 5\n",
        "y1 = 5\n",
        "x2 = 'Hello'\n",
        "y2 = 'Hello'\n",
        "x3 = [1,2,3]\n",
        "y3 = [1,2,3]\n",
        "x4 = (1,2,3)\n",
        "y4 = (1,2,3)\n",
        "x5 = {4,5,6}\n",
        "y5 = {4,5,6}\n",
        "\n",
        "print(x1 is not y1)\n",
        "\n",
        "print(x2 is y2)\n",
        "\n",
        "print(x3 is y3)\n",
        "\n",
        "print(x4 is y4)\n",
        "\n",
        "print(x5 is y5)"
      ],
      "execution_count": 32,
      "outputs": [
        {
          "output_type": "stream",
          "text": [
            "False\n",
            "True\n",
            "False\n",
            "False\n",
            "False\n"
          ],
          "name": "stdout"
        }
      ]
    },
    {
      "metadata": {
        "id": "6usc9HrAh_wa",
        "colab_type": "code",
        "colab": {}
      },
      "cell_type": "code",
      "source": [
        "# x1 and y1 are integers of same values, so they are equal as well as identical\n",
        "# x2 and y2 are strings of same value, so they are equal as well as identical\n",
        "# x3 and y3 are lists. They are equal but not identical. \n",
        "# since list are mutable, interpreter locates them seperately in memory although they are equal"
      ],
      "execution_count": 0,
      "outputs": []
    },
    {
      "metadata": {
        "id": "gQ_gNXZPk5LS",
        "colab_type": "code",
        "colab": {
          "base_uri": "https://localhost:8080/",
          "height": 102
        },
        "outputId": "8f83f7cd-ce8a-4411-b9c5-020109c6d44c"
      },
      "cell_type": "code",
      "source": [
        "# Memory addresses of the variables\n",
        "print(x1,'=>',id(x1), y1,'=>',id(y1))\n",
        "print(x2,'=>',id(x2), y2,'=>',id(y2))\n",
        "print(x3,'=>',id(x3), y3,'=>',id(y3))\n",
        "print(x4,'=>',id(x4), y4,'=>',id(y4))\n",
        "print(x5,'=>',id(x5), y5,'=>',id(y5))"
      ],
      "execution_count": 34,
      "outputs": [
        {
          "output_type": "stream",
          "text": [
            "5 => 10935616 5 => 10935616\n",
            "Hello => 140044693408376 Hello => 140044693408376\n",
            "[1, 2, 3] => 140044692959880 [1, 2, 3] => 140044692961928\n",
            "(1, 2, 3) => 140044692926752 (1, 2, 3) => 140044698653032\n",
            "{4, 5, 6} => 140045179703368 {4, 5, 6} => 140044693420296\n"
          ],
          "name": "stdout"
        }
      ]
    },
    {
      "metadata": {
        "id": "2ovMqYedk66B",
        "colab_type": "code",
        "colab": {}
      },
      "cell_type": "code",
      "source": [
        "# MEMBERSHIP OPERATORS\n",
        "\n",
        "# in -> True if value/variable is found in the sequence\n",
        "# not in -> True if value/variable is not found in the sequence"
      ],
      "execution_count": 0,
      "outputs": []
    },
    {
      "metadata": {
        "id": "JibzyXAXk81S",
        "colab_type": "code",
        "colab": {
          "base_uri": "https://localhost:8080/",
          "height": 85
        },
        "outputId": "571f88a6-68bd-414b-cfa8-c27ec8af25aa"
      },
      "cell_type": "code",
      "source": [
        "x = 'Hello world'\n",
        "y = {1:'a',2:'b'}\n",
        "\n",
        "print('H' in x)\n",
        "\n",
        "print('hello' not in x)\n",
        "\n",
        "print(1 in y)\n",
        "\n",
        "print('a' in y)"
      ],
      "execution_count": 36,
      "outputs": [
        {
          "output_type": "stream",
          "text": [
            "True\n",
            "True\n",
            "True\n",
            "False\n"
          ],
          "name": "stdout"
        }
      ]
    },
    {
      "metadata": {
        "id": "jQZDJ-wDlC-e",
        "colab_type": "code",
        "colab": {}
      },
      "cell_type": "code",
      "source": [
        "#*************************************************************************************************************\n",
        "# PYTHON NAMESPACE AND SCOPE\n",
        "#*************************************************************************************************************"
      ],
      "execution_count": 0,
      "outputs": []
    },
    {
      "metadata": {
        "id": "8o7ccsIvnVb6",
        "colab_type": "code",
        "colab": {
          "base_uri": "https://localhost:8080/",
          "height": 374
        },
        "outputId": "c98fc37b-929f-4770-9efc-e6d84dabf23f"
      },
      "cell_type": "code",
      "source": [
        "import this"
      ],
      "execution_count": 39,
      "outputs": [
        {
          "output_type": "stream",
          "text": [
            "The Zen of Python, by Tim Peters\n",
            "\n",
            "Beautiful is better than ugly.\n",
            "Explicit is better than implicit.\n",
            "Simple is better than complex.\n",
            "Complex is better than complicated.\n",
            "Flat is better than nested.\n",
            "Sparse is better than dense.\n",
            "Readability counts.\n",
            "Special cases aren't special enough to break the rules.\n",
            "Although practicality beats purity.\n",
            "Errors should never pass silently.\n",
            "Unless explicitly silenced.\n",
            "In the face of ambiguity, refuse the temptation to guess.\n",
            "There should be one-- and preferably only one --obvious way to do it.\n",
            "Although that way may not be obvious at first unless you're Dutch.\n",
            "Now is better than never.\n",
            "Although never is often better than *right* now.\n",
            "If the implementation is hard to explain, it's a bad idea.\n",
            "If the implementation is easy to explain, it may be a good idea.\n",
            "Namespaces are one honking great idea -- let's do more of those!\n"
          ],
          "name": "stdout"
        }
      ]
    },
    {
      "metadata": {
        "id": "03cBp1-joTil",
        "colab_type": "code",
        "colab": {}
      },
      "cell_type": "code",
      "source": [
        ""
      ],
      "execution_count": 0,
      "outputs": []
    }
  ]
}