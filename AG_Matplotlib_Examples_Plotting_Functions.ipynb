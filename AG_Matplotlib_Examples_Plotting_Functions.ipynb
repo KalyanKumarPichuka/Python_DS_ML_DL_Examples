{
  "nbformat": 4,
  "nbformat_minor": 0,
  "metadata": {
    "colab": {
      "name": "AG_Matplotlib_Examples_Plotting_Functions.ipynb",
      "version": "0.3.2",
      "provenance": [],
      "collapsed_sections": [],
      "include_colab_link": true
    },
    "kernelspec": {
      "name": "python3",
      "display_name": "Python 3"
    }
  },
  "cells": [
    {
      "cell_type": "markdown",
      "metadata": {
        "id": "view-in-github",
        "colab_type": "text"
      },
      "source": [
        "[View in Colaboratory](https://colab.research.google.com/github/kalyan369/Python_Practice/blob/master/AG_Matplotlib_Examples_Plotting_Functions.ipynb)"
      ]
    },
    {
      "metadata": {
        "id": "axnlf698LT8G",
        "colab_type": "code",
        "colab": {}
      },
      "cell_type": "code",
      "source": [
        "import numpy as np\n",
        "import matplotlib.pyplot as plt\n",
        "%matplotlib inline"
      ],
      "execution_count": 0,
      "outputs": []
    },
    {
      "metadata": {
        "id": "UfFW8LkZLoBe",
        "colab_type": "code",
        "colab": {
          "base_uri": "https://localhost:8080/",
          "height": 265
        },
        "outputId": "ed034959-9d45-44db-f788-7526c9c28476"
      },
      "cell_type": "code",
      "source": [
        "np.random.seed(1)\n",
        "x=np.arange(5)\n",
        "y=np.random.randn(5)\n",
        "\n",
        "fig,axes = plt.subplots(ncols=2,figsize=plt.figaspect(1./2))\n",
        "#fig,axes = plt.subplots(ncols=2)\n",
        "\n",
        "vert_bars = axes[0].bar(x,y,color='lightblue',align='center')\n",
        "horiz_bars = axes[1].barh(x,y,color='lightblue',align='center')\n",
        "\n",
        "#Introduced axhline & axvline to draw a line all the way across the access\n",
        "#This can be a quick-n-easy way to draw an axis 'spine'\n",
        "\n",
        "axes[0].axhline(0,color='gray',linewidth=2)\n",
        "axes[1].axvline(0,color='gray',linewidth=2)\n",
        "\n",
        "plt.show()\n"
      ],
      "execution_count": 4,
      "outputs": [
        {
          "output_type": "display_data",
          "data": {
            "image/png": "[encoded data removed]",
            "text/plain": [
              "<matplotlib.figure.Figure at 0x7f04875e20f0>"
            ]
          },
          "metadata": {
            "tags": []
          }
        }
      ]
    },
    {
      "metadata": {
        "id": "lYG1ww1RSWPv",
        "colab_type": "code",
        "colab": {
          "base_uri": "https://localhost:8080/",
          "height": 265
        },
        "outputId": "dda31a4e-6372-498a-8b0e-307f3707dec5"
      },
      "cell_type": "code",
      "source": [
        "fig,ax = plt.subplots()\n",
        "vert_bars = ax.bar(x,y,color='lightblue',align='center')\n",
        "\n",
        "\n",
        "#Change the bar color if the value of y is less than 0 using the objects returned by matplotlib functions in this case it is vert_bars\n",
        "\n",
        "for bar,height in zip(vert_bars,y):\n",
        "  if height < 0:\n",
        "    bar.set(edgecolor='darkred',color='salmon',linewidth=3)\n",
        "\n",
        "plt.show()\n"
      ],
      "execution_count": 6,
      "outputs": [
        {
          "output_type": "display_data",
          "data": {
            "image/png": "[encoded data removed]",
            "text/plain": [
              "<matplotlib.figure.Figure at 0x7f0484404b70>"
            ]
          },
          "metadata": {
            "tags": []
          }
        }
      ]
    },
    {
      "metadata": {
        "id": "Y1JkUuKkUd94",
        "colab_type": "code",
        "colab": {}
      },
      "cell_type": "code",
      "source": [
        ""
      ],
      "execution_count": 0,
      "outputs": []
    }
  ]
}