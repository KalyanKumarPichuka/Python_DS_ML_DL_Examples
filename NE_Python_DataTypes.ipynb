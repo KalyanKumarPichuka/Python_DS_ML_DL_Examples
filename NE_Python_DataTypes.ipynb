{
  "nbformat": 4,
  "nbformat_minor": 0,
  "metadata": {
    "colab": {
      "name": "NE_Python_DataTypes.ipynb",
      "version": "0.3.2",
      "provenance": [],
      "collapsed_sections": [],
      "include_colab_link": true
    },
    "kernelspec": {
      "name": "python3",
      "display_name": "Python 3"
    }
  },
  "cells": [
    {
      "cell_type": "markdown",
      "metadata": {
        "id": "view-in-github",
        "colab_type": "text"
      },
      "source": [
        "[View in Colaboratory](https://colab.research.google.com/github/kalyan369/Python_DS_ML_DL_Examples/blob/master/NE_Python_DataTypes.ipynb)"
      ]
    },
    {
      "metadata": {
        "id": "lNw6S-ZDbSQj",
        "colab_type": "code",
        "colab": {}
      },
      "cell_type": "code",
      "source": [
        "#*************************************************************************************************************************\n",
        "# PYTHON NUMBERS, TYPE CONVERSION AND MATHEMATICS\n",
        "#*************************************************************************************************************************"
      ],
      "execution_count": 0,
      "outputs": []
    },
    {
      "metadata": {
        "id": "TeStvWqfbyjs",
        "colab_type": "code",
        "colab": {}
      },
      "cell_type": "code",
      "source": [
        "# python supports integers, floating point numbers and complex numbers"
      ],
      "execution_count": 0,
      "outputs": []
    },
    {
      "metadata": {
        "id": "7zTktVDTev5E",
        "colab_type": "code",
        "colab": {
          "base_uri": "https://localhost:8080/",
          "height": 34
        },
        "outputId": "46bc5b8f-8890-4513-a895-e993e4a304a0"
      },
      "cell_type": "code",
      "source": [
        "(1.1+2.2) == 3.3"
      ],
      "execution_count": 118,
      "outputs": [
        {
          "output_type": "execute_result",
          "data": {
            "text/plain": [
              "False"
            ]
          },
          "metadata": {
            "tags": []
          },
          "execution_count": 118
        }
      ]
    },
    {
      "metadata": {
        "id": "Ad3eijxZez16",
        "colab_type": "code",
        "colab": {
          "base_uri": "https://localhost:8080/",
          "height": 34
        },
        "outputId": "2a1ede6e-e35e-43a8-efce-5954aff6e134"
      },
      "cell_type": "code",
      "source": [
        "1.1 + 2.2"
      ],
      "execution_count": 119,
      "outputs": [
        {
          "output_type": "execute_result",
          "data": {
            "text/plain": [
              "3.3000000000000003"
            ]
          },
          "metadata": {
            "tags": []
          },
          "execution_count": 119
        }
      ]
    },
    {
      "metadata": {
        "id": "gJnK6xSmfWV5",
        "colab_type": "code",
        "colab": {}
      },
      "cell_type": "code",
      "source": [
        "#DECIMAL MODULE IS USE TO HANDLE ABOVE SITUATION AS BELOW"
      ],
      "execution_count": 0,
      "outputs": []
    },
    {
      "metadata": {
        "id": "tdYCiid8gDwQ",
        "colab_type": "code",
        "colab": {}
      },
      "cell_type": "code",
      "source": [
        "#*************************************************************************************************************************"
      ],
      "execution_count": 0,
      "outputs": []
    },
    {
      "metadata": {
        "id": "HGplewR7gLYM",
        "colab_type": "code",
        "colab": {
          "base_uri": "https://localhost:8080/",
          "height": 51
        },
        "outputId": "31f8637a-20a8-4444-8328-d04e539f360f"
      },
      "cell_type": "code",
      "source": [
        "import decimal\n",
        "\n",
        "print(0.1)\n",
        "\n",
        "print(decimal.Decimal(0.1))"
      ],
      "execution_count": 122,
      "outputs": [
        {
          "output_type": "stream",
          "text": [
            "0.1\n",
            "0.1000000000000000055511151231257827021181583404541015625\n"
          ],
          "name": "stdout"
        }
      ]
    },
    {
      "metadata": {
        "id": "e5lgyL6HgRdS",
        "colab_type": "code",
        "colab": {
          "base_uri": "https://localhost:8080/",
          "height": 51
        },
        "outputId": "834516e3-04b1-4590-b488-7b4233833123"
      },
      "cell_type": "code",
      "source": [
        "from decimal import Decimal as D\n",
        "\n",
        "print(D('1.1') + D('2.2'))\n",
        "\n",
        "print(D('1.2') * D('2.50'))"
      ],
      "execution_count": 123,
      "outputs": [
        {
          "output_type": "stream",
          "text": [
            "3.3\n",
            "3.000\n"
          ],
          "name": "stdout"
        }
      ]
    },
    {
      "metadata": {
        "id": "SwPrMeI-gia_",
        "colab_type": "code",
        "colab": {}
      },
      "cell_type": "code",
      "source": [
        "# PYTHON FRACTIONS"
      ],
      "execution_count": 0,
      "outputs": []
    },
    {
      "metadata": {
        "id": "s2A_b3Kjg4W1",
        "colab_type": "code",
        "colab": {
          "base_uri": "https://localhost:8080/",
          "height": 68
        },
        "outputId": "3f4e6179-1e45-454f-ff45-0a2278403f1d"
      },
      "cell_type": "code",
      "source": [
        "import fractions\n",
        "\n",
        "print(fractions.Fraction(1.5))\n",
        "\n",
        "print(fractions.Fraction(5))\n",
        "\n",
        "print(fractions.Fraction(1,3))"
      ],
      "execution_count": 125,
      "outputs": [
        {
          "output_type": "stream",
          "text": [
            "3/2\n",
            "5\n",
            "1/3\n"
          ],
          "name": "stdout"
        }
      ]
    },
    {
      "metadata": {
        "id": "6JbojK8GhAya",
        "colab_type": "code",
        "colab": {
          "base_uri": "https://localhost:8080/",
          "height": 51
        },
        "outputId": "b3a7d824-c75e-4841-8481-2d8322364bf3"
      },
      "cell_type": "code",
      "source": [
        "import fractions\n",
        "\n",
        "print(fractions.Fraction(1.1))\n",
        "\n",
        "print(fractions.Fraction('1.1'))"
      ],
      "execution_count": 126,
      "outputs": [
        {
          "output_type": "stream",
          "text": [
            "2476979795053773/2251799813685248\n",
            "11/10\n"
          ],
          "name": "stdout"
        }
      ]
    },
    {
      "metadata": {
        "id": "vijKOotehZAY",
        "colab_type": "code",
        "colab": {
          "base_uri": "https://localhost:8080/",
          "height": 85
        },
        "outputId": "05dabd37-e5d3-44c3-caf5-f6f3f8e52ab6"
      },
      "cell_type": "code",
      "source": [
        "from fractions import Fraction as F\n",
        "\n",
        "print(F(1,3) + F(1,3))\n",
        "\n",
        "print(1 / F(5,6))\n",
        "\n",
        "print(F(-3,10) > 0)\n",
        "\n",
        "print(F(-3,10) < 0)"
      ],
      "execution_count": 127,
      "outputs": [
        {
          "output_type": "stream",
          "text": [
            "2/3\n",
            "6/5\n",
            "False\n",
            "True\n"
          ],
          "name": "stdout"
        }
      ]
    },
    {
      "metadata": {
        "id": "yUh5YQvxhxDB",
        "colab_type": "code",
        "colab": {
          "base_uri": "https://localhost:8080/",
          "height": 1054
        },
        "outputId": "639eebbd-a01c-4c15-aae5-0b2c2b8fc061"
      },
      "cell_type": "code",
      "source": [
        "import random\n",
        "dir(random)"
      ],
      "execution_count": 128,
      "outputs": [
        {
          "output_type": "execute_result",
          "data": {
            "text/plain": [
              "['BPF',\n",
              " 'LOG4',\n",
              " 'NV_MAGICCONST',\n",
              " 'RECIP_BPF',\n",
              " 'Random',\n",
              " 'SG_MAGICCONST',\n",
              " 'SystemRandom',\n",
              " 'TWOPI',\n",
              " '_BuiltinMethodType',\n",
              " '_MethodType',\n",
              " '_Sequence',\n",
              " '_Set',\n",
              " '__all__',\n",
              " '__builtins__',\n",
              " '__cached__',\n",
              " '__doc__',\n",
              " '__file__',\n",
              " '__loader__',\n",
              " '__name__',\n",
              " '__package__',\n",
              " '__spec__',\n",
              " '_acos',\n",
              " '_bisect',\n",
              " '_ceil',\n",
              " '_cos',\n",
              " '_e',\n",
              " '_exp',\n",
              " '_inst',\n",
              " '_itertools',\n",
              " '_log',\n",
              " '_pi',\n",
              " '_random',\n",
              " '_sha512',\n",
              " '_sin',\n",
              " '_sqrt',\n",
              " '_test',\n",
              " '_test_generator',\n",
              " '_urandom',\n",
              " '_warn',\n",
              " 'betavariate',\n",
              " 'choice',\n",
              " 'choices',\n",
              " 'expovariate',\n",
              " 'gammavariate',\n",
              " 'gauss',\n",
              " 'getrandbits',\n",
              " 'getstate',\n",
              " 'lognormvariate',\n",
              " 'normalvariate',\n",
              " 'paretovariate',\n",
              " 'randint',\n",
              " 'random',\n",
              " 'randrange',\n",
              " 'sample',\n",
              " 'seed',\n",
              " 'setstate',\n",
              " 'shuffle',\n",
              " 'triangular',\n",
              " 'uniform',\n",
              " 'vonmisesvariate',\n",
              " 'weibullvariate']"
            ]
          },
          "metadata": {
            "tags": []
          },
          "execution_count": 128
        }
      ]
    },
    {
      "metadata": {
        "id": "pjY9P6kbiYEg",
        "colab_type": "code",
        "colab": {
          "base_uri": "https://localhost:8080/",
          "height": 34
        },
        "outputId": "3d98060f-1703-4d00-a3d4-c653ef1191ff"
      },
      "cell_type": "code",
      "source": [
        "random.randrange(10,20)"
      ],
      "execution_count": 129,
      "outputs": [
        {
          "output_type": "execute_result",
          "data": {
            "text/plain": [
              "17"
            ]
          },
          "metadata": {
            "tags": []
          },
          "execution_count": 129
        }
      ]
    },
    {
      "metadata": {
        "id": "VU5-gDUIiqgr",
        "colab_type": "code",
        "colab": {
          "base_uri": "https://localhost:8080/",
          "height": 153
        },
        "outputId": "dddbc2a9-f82b-49aa-d228-4934091d7d36"
      },
      "cell_type": "code",
      "source": [
        "help(random.randrange)"
      ],
      "execution_count": 130,
      "outputs": [
        {
          "output_type": "stream",
          "text": [
            "Help on method randrange in module random:\n",
            "\n",
            "randrange(start, stop=None, step=1, _int=<class 'int'>) method of random.Random instance\n",
            "    Choose a random item from range(start, stop[, step]).\n",
            "    \n",
            "    This fixes the problem with randint() which includes the\n",
            "    endpoint; in Python this is usually not what you want.\n",
            "\n"
          ],
          "name": "stdout"
        }
      ]
    },
    {
      "metadata": {
        "id": "Mp81JLnciwD6",
        "colab_type": "code",
        "colab": {}
      },
      "cell_type": "code",
      "source": [
        "# LIST DATATYPE\n",
        "\n",
        "# ADD METHOD ON LIST TO ADD ONE ELEMENT WHEREAS EXTEND IS USED TO ADD MORE THAN ONE ELEMENT AS SHOWN BELOW"
      ],
      "execution_count": 0,
      "outputs": []
    },
    {
      "metadata": {
        "id": "JxEc1piKmKCi",
        "colab_type": "code",
        "colab": {
          "base_uri": "https://localhost:8080/",
          "height": 51
        },
        "outputId": "095e49e9-c6a0-4737-d6cb-4e22634a695d"
      },
      "cell_type": "code",
      "source": [
        "odd = [1, 3, 5]\n",
        "\n",
        "odd.append(7)\n",
        "\n",
        "print(odd)\n",
        "\n",
        "odd.extend([9, 11, 13])\n",
        "\n",
        "print(odd)"
      ],
      "execution_count": 132,
      "outputs": [
        {
          "output_type": "stream",
          "text": [
            "[1, 3, 5, 7]\n",
            "[1, 3, 5, 7, 9, 11, 13]\n"
          ],
          "name": "stdout"
        }
      ]
    },
    {
      "metadata": {
        "id": "Or3VnDQmmWkn",
        "colab_type": "code",
        "colab": {}
      },
      "cell_type": "code",
      "source": [
        "# + ALSO CAN BE USED TO ADD ELEMENTS TO THHE LIST WHICH IS CALLED AS CONCATENATION\n",
        "# * REPEATS A LIST FOR GIVEN NUMBER OF TIMES"
      ],
      "execution_count": 0,
      "outputs": []
    },
    {
      "metadata": {
        "id": "__InhXzxmg-3",
        "colab_type": "code",
        "colab": {
          "base_uri": "https://localhost:8080/",
          "height": 51
        },
        "outputId": "ff0a06c5-0753-497c-ac0e-0b8ca85c9b16"
      },
      "cell_type": "code",
      "source": [
        "odd = [1, 3, 5]\n",
        "\n",
        "print(odd + [9, 7, 5])\n",
        "\n",
        "print([\"re\"] * 3)"
      ],
      "execution_count": 134,
      "outputs": [
        {
          "output_type": "stream",
          "text": [
            "[1, 3, 5, 9, 7, 5]\n",
            "['re', 're', 're']\n"
          ],
          "name": "stdout"
        }
      ]
    },
    {
      "metadata": {
        "id": "3f8GLkeYm-HH",
        "colab_type": "code",
        "colab": {
          "base_uri": "https://localhost:8080/",
          "height": 51
        },
        "outputId": "3ede5c46-dc8a-42ab-ce0f-74aec98b5c3e"
      },
      "cell_type": "code",
      "source": [
        "# INSERT IS USED ADD ELEMENT/S AT A SPECIFIED LOCATION\n",
        "odd = [1, 9]\n",
        "odd.insert(1,3)\n",
        "\n",
        "print(odd)\n",
        "\n",
        "odd[2:2] = [5, 7]\n",
        "\n",
        "print(odd)"
      ],
      "execution_count": 135,
      "outputs": [
        {
          "output_type": "stream",
          "text": [
            "[1, 3, 9]\n",
            "[1, 3, 5, 7, 9]\n"
          ],
          "name": "stdout"
        }
      ]
    },
    {
      "metadata": {
        "id": "Up5jHBKnnJLY",
        "colab_type": "code",
        "colab": {
          "base_uri": "https://localhost:8080/",
          "height": 34
        },
        "outputId": "ac042cd9-3a47-4ebb-9eb8-f05df3208571"
      },
      "cell_type": "code",
      "source": [
        "# deleting elemets from the list using del keyword\n",
        "\n",
        "ex_list = ['p','r','o','b','l','e','m']\n",
        "\n",
        "del ex_list[2]\n",
        "\n",
        "print(ex_list)"
      ],
      "execution_count": 136,
      "outputs": [
        {
          "output_type": "stream",
          "text": [
            "['p', 'r', 'b', 'l', 'e', 'm']\n"
          ],
          "name": "stdout"
        }
      ]
    },
    {
      "metadata": {
        "id": "GgakTJaFqBIL",
        "colab_type": "code",
        "colab": {}
      },
      "cell_type": "code",
      "source": [
        "del ex_list"
      ],
      "execution_count": 0,
      "outputs": []
    },
    {
      "metadata": {
        "id": "YuVBTn2iqGLD",
        "colab_type": "code",
        "colab": {}
      },
      "cell_type": "code",
      "source": [
        "# ex_list ==> throws an error as list got deleted"
      ],
      "execution_count": 0,
      "outputs": []
    },
    {
      "metadata": {
        "id": "XXIZ_-CQqG1D",
        "colab_type": "code",
        "colab": {}
      },
      "cell_type": "code",
      "source": [
        "# We can use remove() method to remove the given item or pop() method to remove an item at the given index\n",
        "# The pop() method removes and returns the last item if index is not provided \n",
        "# This helps us implement lists as stacks (first in, last out data structure)\n",
        "# clear method is used to empty the list"
      ],
      "execution_count": 0,
      "outputs": []
    },
    {
      "metadata": {
        "id": "lNqJ7pI7tlg_",
        "colab_type": "code",
        "colab": {
          "base_uri": "https://localhost:8080/",
          "height": 119
        },
        "outputId": "00e288c2-efea-42d5-c512-4584f04c2ec3"
      },
      "cell_type": "code",
      "source": [
        "my_list = ['p','r','o','b','l','e','m']\n",
        "my_list.remove('p')\n",
        "\n",
        "print(my_list)\n",
        "\n",
        "print(my_list.pop(1))\n",
        "\n",
        "print(my_list)\n",
        "\n",
        "print(my_list.pop())\n",
        "\n",
        "print(my_list)\n",
        "\n",
        "my_list.clear()\n",
        "\n",
        "print(my_list)"
      ],
      "execution_count": 140,
      "outputs": [
        {
          "output_type": "stream",
          "text": [
            "['r', 'o', 'b', 'l', 'e', 'm']\n",
            "o\n",
            "['r', 'b', 'l', 'e', 'm']\n",
            "m\n",
            "['r', 'b', 'l', 'e']\n",
            "[]\n"
          ],
          "name": "stdout"
        }
      ]
    },
    {
      "metadata": {
        "id": "QmKGTsoeuIgG",
        "colab_type": "code",
        "colab": {}
      },
      "cell_type": "code",
      "source": [
        "# Following is another method of deleting elements by assigning empty list to the slice of elements\n",
        "my_list = ['p','r','o','b','l','e','m']"
      ],
      "execution_count": 0,
      "outputs": []
    },
    {
      "metadata": {
        "id": "FDLzXX3oucfb",
        "colab_type": "code",
        "colab": {}
      },
      "cell_type": "code",
      "source": [
        "my_list[2:3] = []"
      ],
      "execution_count": 0,
      "outputs": []
    },
    {
      "metadata": {
        "id": "gH5TgwyHufRE",
        "colab_type": "code",
        "colab": {
          "base_uri": "https://localhost:8080/",
          "height": 34
        },
        "outputId": "f088fdc5-74ec-40b3-abde-ecc3a03fe40e"
      },
      "cell_type": "code",
      "source": [
        "my_list"
      ],
      "execution_count": 143,
      "outputs": [
        {
          "output_type": "execute_result",
          "data": {
            "text/plain": [
              "['p', 'r', 'b', 'l', 'e', 'm']"
            ]
          },
          "metadata": {
            "tags": []
          },
          "execution_count": 143
        }
      ]
    },
    {
      "metadata": {
        "id": "GF03qQ_Hu5nw",
        "colab_type": "code",
        "colab": {
          "base_uri": "https://localhost:8080/",
          "height": 34
        },
        "outputId": "85b29460-8fc2-4223-fac6-1a6ab37d01cb"
      },
      "cell_type": "code",
      "source": [
        "my_list[2:5] = []\n",
        "my_list"
      ],
      "execution_count": 144,
      "outputs": [
        {
          "output_type": "execute_result",
          "data": {
            "text/plain": [
              "['p', 'r', 'm']"
            ]
          },
          "metadata": {
            "tags": []
          },
          "execution_count": 144
        }
      ]
    },
    {
      "metadata": {
        "id": "JoS2ynmDvGSV",
        "colab_type": "code",
        "colab": {
          "base_uri": "https://localhost:8080/",
          "height": 85
        },
        "outputId": "50178289-7c9e-4604-c368-52151866ef49"
      },
      "cell_type": "code",
      "source": [
        "my_list = [3, 8, 1, 6, 0, 8, 4]\n",
        "\n",
        "print(my_list.index(8))\n",
        "\n",
        "print(my_list.count(8))\n",
        "\n",
        "my_list.sort()\n",
        "\n",
        "print(my_list)\n",
        "\n",
        "my_list.reverse()\n",
        "\n",
        "print(my_list)"
      ],
      "execution_count": 145,
      "outputs": [
        {
          "output_type": "stream",
          "text": [
            "1\n",
            "2\n",
            "[0, 1, 3, 4, 6, 8, 8]\n",
            "[8, 8, 6, 4, 3, 1, 0]\n"
          ],
          "name": "stdout"
        }
      ]
    },
    {
      "metadata": {
        "id": "eUzq0kCevYD8",
        "colab_type": "code",
        "colab": {}
      },
      "cell_type": "code",
      "source": [
        "# LIST COMPREHENSION\n",
        "\n",
        "pow2 = [2**x for x in range(10)]"
      ],
      "execution_count": 0,
      "outputs": []
    },
    {
      "metadata": {
        "id": "PLMnWyH5wyPR",
        "colab_type": "code",
        "colab": {
          "base_uri": "https://localhost:8080/",
          "height": 34
        },
        "outputId": "f0d9f3f6-5e3d-438a-a0fb-77647d822319"
      },
      "cell_type": "code",
      "source": [
        "pow2"
      ],
      "execution_count": 147,
      "outputs": [
        {
          "output_type": "execute_result",
          "data": {
            "text/plain": [
              "[1, 2, 4, 8, 16, 32, 64, 128, 256, 512]"
            ]
          },
          "metadata": {
            "tags": []
          },
          "execution_count": 147
        }
      ]
    },
    {
      "metadata": {
        "id": "AJUA29wUwzv1",
        "colab_type": "code",
        "colab": {}
      },
      "cell_type": "code",
      "source": [
        "pow2 = [2**x for x in range(10) if x>5]"
      ],
      "execution_count": 0,
      "outputs": []
    },
    {
      "metadata": {
        "id": "eMXtnOBFy2q2",
        "colab_type": "code",
        "colab": {
          "base_uri": "https://localhost:8080/",
          "height": 34
        },
        "outputId": "144396e2-32db-4b9b-ce2c-69b5d9e88089"
      },
      "cell_type": "code",
      "source": [
        "pow2"
      ],
      "execution_count": 149,
      "outputs": [
        {
          "output_type": "execute_result",
          "data": {
            "text/plain": [
              "[64, 128, 256, 512]"
            ]
          },
          "metadata": {
            "tags": []
          },
          "execution_count": 149
        }
      ]
    },
    {
      "metadata": {
        "id": "8HPPcw3ay4mP",
        "colab_type": "code",
        "colab": {
          "base_uri": "https://localhost:8080/",
          "height": 34
        },
        "outputId": "959e48cd-46b2-4ee7-8a26-d113f8fdedb8"
      },
      "cell_type": "code",
      "source": [
        "odd =[x for x in range(20) if x%2 == 1]\n",
        "odd"
      ],
      "execution_count": 150,
      "outputs": [
        {
          "output_type": "execute_result",
          "data": {
            "text/plain": [
              "[1, 3, 5, 7, 9, 11, 13, 15, 17, 19]"
            ]
          },
          "metadata": {
            "tags": []
          },
          "execution_count": 150
        }
      ]
    },
    {
      "metadata": {
        "id": "TcKNWZSOzbhT",
        "colab_type": "code",
        "colab": {
          "base_uri": "https://localhost:8080/",
          "height": 34
        },
        "outputId": "dc3efd77-f68e-4d49-fd57-a3a5804a973a"
      },
      "cell_type": "code",
      "source": [
        "[x+y for x in ['Python ','C '] for y in ['Language','Programming']]"
      ],
      "execution_count": 151,
      "outputs": [
        {
          "output_type": "execute_result",
          "data": {
            "text/plain": [
              "['Python Language', 'Python Programming', 'C Language', 'C Programming']"
            ]
          },
          "metadata": {
            "tags": []
          },
          "execution_count": 151
        }
      ]
    },
    {
      "metadata": {
        "id": "ABJ4LsU9z2Yi",
        "colab_type": "code",
        "colab": {
          "base_uri": "https://localhost:8080/",
          "height": 68
        },
        "outputId": "dd6868e4-2e3a-418f-b727-df756248b934"
      },
      "cell_type": "code",
      "source": [
        "# Enumerate method\n",
        "grocery = ['bread', 'milk', 'butter']\n",
        "enumerateGrocery = enumerate(grocery)\n",
        "\n",
        "print(type(enumerateGrocery))\n",
        "\n",
        "print(list(enumerateGrocery))\n",
        "\n",
        "enumerateGrocery = enumerate(grocery, 10)\n",
        "print(list(enumerateGrocery))"
      ],
      "execution_count": 152,
      "outputs": [
        {
          "output_type": "stream",
          "text": [
            "<class 'enumerate'>\n",
            "[(0, 'bread'), (1, 'milk'), (2, 'butter')]\n",
            "[(10, 'bread'), (11, 'milk'), (12, 'butter')]\n"
          ],
          "name": "stdout"
        }
      ]
    },
    {
      "metadata": {
        "id": "4g1g-s9T09OG",
        "colab_type": "code",
        "colab": {
          "base_uri": "https://localhost:8080/",
          "height": 238
        },
        "outputId": "64a0ae52-f846-45ce-df2a-8f1d78e39a60"
      },
      "cell_type": "code",
      "source": [
        "grocery = ['bread', 'milk', 'butter']\n",
        "\n",
        "for item in enumerate(grocery):\n",
        "  print(item)\n",
        "\n",
        "print('\\n')\n",
        "for count, item in enumerate(grocery):\n",
        "  print(count, item)\n",
        "\n",
        "print('\\n')\n",
        "# changing default start value\n",
        "for count, item in enumerate(grocery, 100):\n",
        "  print(count, item)"
      ],
      "execution_count": 153,
      "outputs": [
        {
          "output_type": "stream",
          "text": [
            "(0, 'bread')\n",
            "(1, 'milk')\n",
            "(2, 'butter')\n",
            "\n",
            "\n",
            "0 bread\n",
            "1 milk\n",
            "2 butter\n",
            "\n",
            "\n",
            "100 bread\n",
            "101 milk\n",
            "102 butter\n"
          ],
          "name": "stdout"
        }
      ]
    },
    {
      "metadata": {
        "id": "e6FgjTXU2lxg",
        "colab_type": "code",
        "colab": {}
      },
      "cell_type": "code",
      "source": [
        "prog_lang = ['python','java','scala','c++']"
      ],
      "execution_count": 0,
      "outputs": []
    },
    {
      "metadata": {
        "id": "RyQeyQ3I3GdY",
        "colab_type": "code",
        "colab": {
          "base_uri": "https://localhost:8080/",
          "height": 85
        },
        "outputId": "4e116e17-ae79-434f-b893-97a80059f4be"
      },
      "cell_type": "code",
      "source": [
        "for item in enumerate(prog_lang):\n",
        "  print(item)"
      ],
      "execution_count": 155,
      "outputs": [
        {
          "output_type": "stream",
          "text": [
            "(0, 'python')\n",
            "(1, 'java')\n",
            "(2, 'scala')\n",
            "(3, 'c++')\n"
          ],
          "name": "stdout"
        }
      ]
    },
    {
      "metadata": {
        "id": "bcIZeMCE3QQ2",
        "colab_type": "code",
        "colab": {
          "base_uri": "https://localhost:8080/",
          "height": 85
        },
        "outputId": "e1fdf4d7-cac4-456c-8ae8-1307c4d27ed9"
      },
      "cell_type": "code",
      "source": [
        "for count,item in enumerate(prog_lang):\n",
        "  print(count,item)"
      ],
      "execution_count": 156,
      "outputs": [
        {
          "output_type": "stream",
          "text": [
            "0 python\n",
            "1 java\n",
            "2 scala\n",
            "3 c++\n"
          ],
          "name": "stdout"
        }
      ]
    },
    {
      "metadata": {
        "id": "3EyPBuY23cKM",
        "colab_type": "code",
        "colab": {}
      },
      "cell_type": "code",
      "source": [
        "# TUPLE DATA TYPE\n",
        "# The difference between the two is that we cannot change the elements of a tuple once it is assigned \n",
        "# whereas in a list, elements can be changed."
      ],
      "execution_count": 0,
      "outputs": []
    },
    {
      "metadata": {
        "id": "s2gqHjHm42yV",
        "colab_type": "code",
        "colab": {
          "base_uri": "https://localhost:8080/",
          "height": 34
        },
        "outputId": "5f3efdbe-e401-4e6d-f507-02cafdf7e2f4"
      },
      "cell_type": "code",
      "source": [
        "my_tuple=(\"tuple\")\n",
        "type(my_tuple)"
      ],
      "execution_count": 158,
      "outputs": [
        {
          "output_type": "execute_result",
          "data": {
            "text/plain": [
              "str"
            ]
          },
          "metadata": {
            "tags": []
          },
          "execution_count": 158
        }
      ]
    },
    {
      "metadata": {
        "id": "ZbKAXjxO6Gx6",
        "colab_type": "code",
        "colab": {
          "base_uri": "https://localhost:8080/",
          "height": 34
        },
        "outputId": "455c0829-1a64-4228-9753-5b94fb611622"
      },
      "cell_type": "code",
      "source": [
        "my_tuple=(\"tuple\",)\n",
        "type(my_tuple)"
      ],
      "execution_count": 159,
      "outputs": [
        {
          "output_type": "execute_result",
          "data": {
            "text/plain": [
              "tuple"
            ]
          },
          "metadata": {
            "tags": []
          },
          "execution_count": 159
        }
      ]
    },
    {
      "metadata": {
        "id": "4gcajRUP6LGf",
        "colab_type": "code",
        "colab": {}
      },
      "cell_type": "code",
      "source": [
        "# STRING DATA TYPE\n",
        "# elements in string can be accessed using index"
      ],
      "execution_count": 0,
      "outputs": []
    },
    {
      "metadata": {
        "id": "6HAbIvglsnv_",
        "colab_type": "code",
        "colab": {}
      },
      "cell_type": "code",
      "source": [
        "str = \"Hello\""
      ],
      "execution_count": 0,
      "outputs": []
    },
    {
      "metadata": {
        "id": "YclmmEZEswnT",
        "colab_type": "code",
        "colab": {}
      },
      "cell_type": "code",
      "source": [
        "#del str[1] ==> throws an error as string is immutable"
      ],
      "execution_count": 0,
      "outputs": []
    },
    {
      "metadata": {
        "id": "8Y-ehUaMsyvA",
        "colab_type": "code",
        "colab": {}
      },
      "cell_type": "code",
      "source": [
        "del str"
      ],
      "execution_count": 0,
      "outputs": []
    },
    {
      "metadata": {
        "id": "W1UloTGSs_Mc",
        "colab_type": "code",
        "colab": {}
      },
      "cell_type": "code",
      "source": [
        "#*************************************************************************************************************************\n",
        "# PYTHON STRING OPERATIONS\n",
        "#*************************************************************************************************************************"
      ],
      "execution_count": 0,
      "outputs": []
    },
    {
      "metadata": {
        "id": "FYWnW8AotNyg",
        "colab_type": "code",
        "colab": {}
      },
      "cell_type": "code",
      "source": [
        "# concatenation of two strings\n",
        "str1 = 'Hello'\n",
        "str2 = 'Good morning'"
      ],
      "execution_count": 0,
      "outputs": []
    },
    {
      "metadata": {
        "id": "CMunUnvUtVTs",
        "colab_type": "code",
        "colab": {
          "base_uri": "https://localhost:8080/",
          "height": 34
        },
        "outputId": "835fe451-3268-47d6-8026-3dfd99d9ccbc"
      },
      "cell_type": "code",
      "source": [
        "str1+str2"
      ],
      "execution_count": 166,
      "outputs": [
        {
          "output_type": "execute_result",
          "data": {
            "text/plain": [
              "'HelloGood morning'"
            ]
          },
          "metadata": {
            "tags": []
          },
          "execution_count": 166
        }
      ]
    },
    {
      "metadata": {
        "id": "h-miUTdZtXB-",
        "colab_type": "code",
        "colab": {
          "base_uri": "https://localhost:8080/",
          "height": 34
        },
        "outputId": "1693308b-2f70-4a45-9797-b085dd7ce889"
      },
      "cell_type": "code",
      "source": [
        "str1 * 3"
      ],
      "execution_count": 167,
      "outputs": [
        {
          "output_type": "execute_result",
          "data": {
            "text/plain": [
              "'HelloHelloHello'"
            ]
          },
          "metadata": {
            "tags": []
          },
          "execution_count": 167
        }
      ]
    },
    {
      "metadata": {
        "id": "nqWvAgU4taM7",
        "colab_type": "code",
        "colab": {
          "base_uri": "https://localhost:8080/",
          "height": 34
        },
        "outputId": "c99c982c-18d8-43bb-9313-338df99ecb43"
      },
      "cell_type": "code",
      "source": [
        "'a' in 'program'"
      ],
      "execution_count": 168,
      "outputs": [
        {
          "output_type": "execute_result",
          "data": {
            "text/plain": [
              "True"
            ]
          },
          "metadata": {
            "tags": []
          },
          "execution_count": 168
        }
      ]
    },
    {
      "metadata": {
        "id": "4iizqdaLuDz7",
        "colab_type": "code",
        "colab": {
          "base_uri": "https://localhost:8080/",
          "height": 34
        },
        "outputId": "dbd4004b-a0c9-4571-aff0-bd380ec42dde"
      },
      "cell_type": "code",
      "source": [
        "'l' in 'python'"
      ],
      "execution_count": 169,
      "outputs": [
        {
          "output_type": "execute_result",
          "data": {
            "text/plain": [
              "False"
            ]
          },
          "metadata": {
            "tags": []
          },
          "execution_count": 169
        }
      ]
    },
    {
      "metadata": {
        "id": "fLU4FnOruHHk",
        "colab_type": "code",
        "colab": {}
      },
      "cell_type": "code",
      "source": [
        "str = 'cold'\n",
        "\n",
        "list_enumerate = list(enumerate(str))"
      ],
      "execution_count": 0,
      "outputs": []
    },
    {
      "metadata": {
        "id": "jDcZvUIpu1f1",
        "colab_type": "code",
        "colab": {
          "base_uri": "https://localhost:8080/",
          "height": 85
        },
        "outputId": "0e4e190d-f1f3-4b02-95d0-6c3249a3b2de"
      },
      "cell_type": "code",
      "source": [
        "for index,item in list_enumerate:\n",
        "  print(index,item)"
      ],
      "execution_count": 171,
      "outputs": [
        {
          "output_type": "stream",
          "text": [
            "0 c\n",
            "1 o\n",
            "2 l\n",
            "3 d\n"
          ],
          "name": "stdout"
        }
      ]
    },
    {
      "metadata": {
        "id": "f1uqTXVWu_uE",
        "colab_type": "code",
        "colab": {
          "base_uri": "https://localhost:8080/",
          "height": 34
        },
        "outputId": "6d2bbf36-86bf-4cce-d689-c9a67f49fe5c"
      },
      "cell_type": "code",
      "source": [
        "len(str)"
      ],
      "execution_count": 172,
      "outputs": [
        {
          "output_type": "execute_result",
          "data": {
            "text/plain": [
              "4"
            ]
          },
          "metadata": {
            "tags": []
          },
          "execution_count": 172
        }
      ]
    },
    {
      "metadata": {
        "id": "LMAPXn_zvGrS",
        "colab_type": "code",
        "colab": {
          "base_uri": "https://localhost:8080/",
          "height": 68
        },
        "outputId": "f03d6fff-5566-45c1-8567-938ee1b894f8"
      },
      "cell_type": "code",
      "source": [
        "# using triple quotes\n",
        "print('''He said, \"What's there?\"''')\n",
        "\n",
        "# escaping single quotes\n",
        "print('He said, \"What\\'s there?\"')\n",
        "\n",
        "# escaping double quotes\n",
        "print(\"He said, \\\"What's there?\\\"\")"
      ],
      "execution_count": 173,
      "outputs": [
        {
          "output_type": "stream",
          "text": [
            "He said, \"What's there?\"\n",
            "He said, \"What's there?\"\n",
            "He said, \"What's there?\"\n"
          ],
          "name": "stdout"
        }
      ]
    },
    {
      "metadata": {
        "id": "gEmeTYYPxDT2",
        "colab_type": "code",
        "colab": {}
      },
      "cell_type": "code",
      "source": [
        "# Below are few commonly used string functions like lower, upper, split,join,find,replace"
      ],
      "execution_count": 0,
      "outputs": []
    },
    {
      "metadata": {
        "id": "IBDpn5zIvmXb",
        "colab_type": "code",
        "colab": {
          "base_uri": "https://localhost:8080/",
          "height": 34
        },
        "outputId": "eb57cf8d-513c-478b-f247-45e086af86d0"
      },
      "cell_type": "code",
      "source": [
        "\"PrOgRaMiZ\".lower()"
      ],
      "execution_count": 175,
      "outputs": [
        {
          "output_type": "execute_result",
          "data": {
            "text/plain": [
              "'programiz'"
            ]
          },
          "metadata": {
            "tags": []
          },
          "execution_count": 175
        }
      ]
    },
    {
      "metadata": {
        "id": "F2QVDh-tw0wr",
        "colab_type": "code",
        "colab": {
          "base_uri": "https://localhost:8080/",
          "height": 34
        },
        "outputId": "c6eb5a31-e1d2-4d17-ce4c-89f5fde0b710"
      },
      "cell_type": "code",
      "source": [
        "\"PrOgRaMiZ\".upper()"
      ],
      "execution_count": 176,
      "outputs": [
        {
          "output_type": "execute_result",
          "data": {
            "text/plain": [
              "'PROGRAMIZ'"
            ]
          },
          "metadata": {
            "tags": []
          },
          "execution_count": 176
        }
      ]
    },
    {
      "metadata": {
        "id": "WrqQ7137w25b",
        "colab_type": "code",
        "colab": {
          "base_uri": "https://localhost:8080/",
          "height": 34
        },
        "outputId": "1ca2ee75-0b17-4f67-e1d8-3366206a78a9"
      },
      "cell_type": "code",
      "source": [
        "\"This will split all words into a list\".split()"
      ],
      "execution_count": 177,
      "outputs": [
        {
          "output_type": "execute_result",
          "data": {
            "text/plain": [
              "['This', 'will', 'split', 'all', 'words', 'into', 'a', 'list']"
            ]
          },
          "metadata": {
            "tags": []
          },
          "execution_count": 177
        }
      ]
    },
    {
      "metadata": {
        "id": "9lFah5Biw6in",
        "colab_type": "code",
        "colab": {
          "base_uri": "https://localhost:8080/",
          "height": 34
        },
        "outputId": "93596877-507a-4027-9ce2-237e419ba415"
      },
      "cell_type": "code",
      "source": [
        "' '.join(['This', 'will', 'join', 'all', 'words', 'into', 'a', 'string'])"
      ],
      "execution_count": 178,
      "outputs": [
        {
          "output_type": "execute_result",
          "data": {
            "text/plain": [
              "'This will join all words into a string'"
            ]
          },
          "metadata": {
            "tags": []
          },
          "execution_count": 178
        }
      ]
    },
    {
      "metadata": {
        "id": "riwB_lVaxANb",
        "colab_type": "code",
        "colab": {
          "base_uri": "https://localhost:8080/",
          "height": 34
        },
        "outputId": "b00c2993-f4af-423c-89dd-ef82a0384e2b"
      },
      "cell_type": "code",
      "source": [
        "'Happy New Year'.find('ew')"
      ],
      "execution_count": 179,
      "outputs": [
        {
          "output_type": "execute_result",
          "data": {
            "text/plain": [
              "7"
            ]
          },
          "metadata": {
            "tags": []
          },
          "execution_count": 179
        }
      ]
    },
    {
      "metadata": {
        "id": "dkzE3BTSxP0z",
        "colab_type": "code",
        "colab": {
          "base_uri": "https://localhost:8080/",
          "height": 34
        },
        "outputId": "0ea4bdcc-74b3-4a7f-bf23-5352866e9d5e"
      },
      "cell_type": "code",
      "source": [
        "'Happy New Year'.replace('Happy','Brilliant')"
      ],
      "execution_count": 180,
      "outputs": [
        {
          "output_type": "execute_result",
          "data": {
            "text/plain": [
              "'Brilliant New Year'"
            ]
          },
          "metadata": {
            "tags": []
          },
          "execution_count": 180
        }
      ]
    },
    {
      "metadata": {
        "id": "u2M5V6r0xYAJ",
        "colab_type": "code",
        "colab": {}
      },
      "cell_type": "code",
      "source": [
        "#*************************************************************************************************************************\n",
        "# PYTHON SETS\n",
        "#*************************************************************************************************************************"
      ],
      "execution_count": 0,
      "outputs": []
    },
    {
      "metadata": {
        "id": "jTjj-KiCxnuh",
        "colab_type": "code",
        "colab": {}
      },
      "cell_type": "code",
      "source": [
        "my_set ={1,2,3}"
      ],
      "execution_count": 0,
      "outputs": []
    },
    {
      "metadata": {
        "id": "4IP8YcFPxvtY",
        "colab_type": "code",
        "colab": {}
      },
      "cell_type": "code",
      "source": [
        "# sets are mutable. As they are unordered, indexing has no meaning\n",
        "# single element can be added using add method whereas update method is used for multiple elements"
      ],
      "execution_count": 0,
      "outputs": []
    },
    {
      "metadata": {
        "id": "WVjq8mtA4e9j",
        "colab_type": "code",
        "colab": {
          "base_uri": "https://localhost:8080/",
          "height": 34
        },
        "outputId": "afd2ed0a-2d51-43fb-8195-1de51f31648e"
      },
      "cell_type": "code",
      "source": [
        "my_set = {1,3}\n",
        "my_set"
      ],
      "execution_count": 184,
      "outputs": [
        {
          "output_type": "execute_result",
          "data": {
            "text/plain": [
              "{1, 3}"
            ]
          },
          "metadata": {
            "tags": []
          },
          "execution_count": 184
        }
      ]
    },
    {
      "metadata": {
        "id": "NU7yMsov4i9O",
        "colab_type": "code",
        "colab": {
          "base_uri": "https://localhost:8080/",
          "height": 34
        },
        "outputId": "bd99d582-6bd3-40f5-a02f-f0fa6a175c4c"
      },
      "cell_type": "code",
      "source": [
        "my_set.add(2)\n",
        "my_set"
      ],
      "execution_count": 185,
      "outputs": [
        {
          "output_type": "execute_result",
          "data": {
            "text/plain": [
              "{1, 2, 3}"
            ]
          },
          "metadata": {
            "tags": []
          },
          "execution_count": 185
        }
      ]
    },
    {
      "metadata": {
        "id": "OwSjsva14qff",
        "colab_type": "code",
        "colab": {
          "base_uri": "https://localhost:8080/",
          "height": 34
        },
        "outputId": "7e6a0f0c-c539-446f-d512-d0a11d79ab80"
      },
      "cell_type": "code",
      "source": [
        "my_set.update([0,9,1.5])\n",
        "my_set"
      ],
      "execution_count": 186,
      "outputs": [
        {
          "output_type": "execute_result",
          "data": {
            "text/plain": [
              "{0, 1, 1.5, 2, 3, 9}"
            ]
          },
          "metadata": {
            "tags": []
          },
          "execution_count": 186
        }
      ]
    },
    {
      "metadata": {
        "id": "8rVAq5LG40C5",
        "colab_type": "code",
        "colab": {
          "base_uri": "https://localhost:8080/",
          "height": 34
        },
        "outputId": "0eb0f58f-ed96-46f7-97a7-42df406b36e5"
      },
      "cell_type": "code",
      "source": [
        "my_set.update([4,5], {1,6,8})\n",
        "my_set"
      ],
      "execution_count": 187,
      "outputs": [
        {
          "output_type": "execute_result",
          "data": {
            "text/plain": [
              "{0, 1, 1.5, 2, 3, 4, 5, 6, 8, 9}"
            ]
          },
          "metadata": {
            "tags": []
          },
          "execution_count": 187
        }
      ]
    },
    {
      "metadata": {
        "id": "NWXdsAet5KmD",
        "colab_type": "code",
        "colab": {
          "base_uri": "https://localhost:8080/",
          "height": 34
        },
        "outputId": "72daaac5-302a-4324-a07f-ebd3d8f34311"
      },
      "cell_type": "code",
      "source": [
        "# Removing elemets from a set\n",
        "# discard and remove methods are used to delete elements in a set\n",
        "# The only difference between the two is that, while using discard() if the item does not exist in the set, it remains unchanged. \n",
        "# But remove() will raise an error in such condition\n",
        "\n",
        "my_set.discard(4)\n",
        "my_set"
      ],
      "execution_count": 188,
      "outputs": [
        {
          "output_type": "execute_result",
          "data": {
            "text/plain": [
              "{0, 1, 1.5, 2, 3, 5, 6, 8, 9}"
            ]
          },
          "metadata": {
            "tags": []
          },
          "execution_count": 188
        }
      ]
    },
    {
      "metadata": {
        "id": "ltNsFc5Q5kcX",
        "colab_type": "code",
        "colab": {}
      },
      "cell_type": "code",
      "source": [
        "# my_set.remove(4) ==> throws an error as 4 doesnt exit in my_set"
      ],
      "execution_count": 0,
      "outputs": []
    },
    {
      "metadata": {
        "id": "sHLBsl4P6MAm",
        "colab_type": "code",
        "colab": {}
      },
      "cell_type": "code",
      "source": [
        "# pop and clear can also be used to remove element in set\n",
        "# while using pop, an arbitary element will be removed as set is unordered"
      ],
      "execution_count": 0,
      "outputs": []
    },
    {
      "metadata": {
        "id": "Z_R09UZ97VHO",
        "colab_type": "code",
        "colab": {}
      },
      "cell_type": "code",
      "source": [
        "#*************************************************************************************************************************\n",
        "# PYTHON SET OPERATIONS\n",
        "#*************************************************************************************************************************"
      ],
      "execution_count": 0,
      "outputs": []
    },
    {
      "metadata": {
        "id": "OazZAIfz7qc8",
        "colab_type": "code",
        "colab": {
          "base_uri": "https://localhost:8080/",
          "height": 34
        },
        "outputId": "cdde6f14-97ec-47d5-8beb-41bedf29b832"
      },
      "cell_type": "code",
      "source": [
        "# union of sets is performed by using |\n",
        "\n",
        "A = {1, 2, 3, 4, 5}\n",
        "B = {4, 5, 6, 7, 8}\n",
        "\n",
        "A | B"
      ],
      "execution_count": 192,
      "outputs": [
        {
          "output_type": "execute_result",
          "data": {
            "text/plain": [
              "{1, 2, 3, 4, 5, 6, 7, 8}"
            ]
          },
          "metadata": {
            "tags": []
          },
          "execution_count": 192
        }
      ]
    },
    {
      "metadata": {
        "id": "K3vdYluJ7-mk",
        "colab_type": "code",
        "colab": {
          "base_uri": "https://localhost:8080/",
          "height": 34
        },
        "outputId": "8f4eb424-cf2d-4271-a82b-296d226a2ed2"
      },
      "cell_type": "code",
      "source": [
        "A.union(B)"
      ],
      "execution_count": 193,
      "outputs": [
        {
          "output_type": "execute_result",
          "data": {
            "text/plain": [
              "{1, 2, 3, 4, 5, 6, 7, 8}"
            ]
          },
          "metadata": {
            "tags": []
          },
          "execution_count": 193
        }
      ]
    },
    {
      "metadata": {
        "id": "_xTHt5zK8J8o",
        "colab_type": "code",
        "colab": {
          "base_uri": "https://localhost:8080/",
          "height": 34
        },
        "outputId": "d1f7bb9b-1ae1-46b3-b8dd-a3e7b0c46baa"
      },
      "cell_type": "code",
      "source": [
        "B.union(A)"
      ],
      "execution_count": 194,
      "outputs": [
        {
          "output_type": "execute_result",
          "data": {
            "text/plain": [
              "{1, 2, 3, 4, 5, 6, 7, 8}"
            ]
          },
          "metadata": {
            "tags": []
          },
          "execution_count": 194
        }
      ]
    },
    {
      "metadata": {
        "id": "AKusHVGn8Oh0",
        "colab_type": "code",
        "colab": {
          "base_uri": "https://localhost:8080/",
          "height": 34
        },
        "outputId": "87a3e03c-3961-4d56-95d1-830066313a71"
      },
      "cell_type": "code",
      "source": [
        "# intersection of two sets is performed by using &\n",
        "\n",
        "A & B"
      ],
      "execution_count": 195,
      "outputs": [
        {
          "output_type": "execute_result",
          "data": {
            "text/plain": [
              "{4, 5}"
            ]
          },
          "metadata": {
            "tags": []
          },
          "execution_count": 195
        }
      ]
    },
    {
      "metadata": {
        "id": "uOAkLzn_8aBB",
        "colab_type": "code",
        "colab": {
          "base_uri": "https://localhost:8080/",
          "height": 34
        },
        "outputId": "ba6e7881-e30b-4aa0-daa6-638e580bce64"
      },
      "cell_type": "code",
      "source": [
        "A.intersection(B)"
      ],
      "execution_count": 196,
      "outputs": [
        {
          "output_type": "execute_result",
          "data": {
            "text/plain": [
              "{4, 5}"
            ]
          },
          "metadata": {
            "tags": []
          },
          "execution_count": 196
        }
      ]
    },
    {
      "metadata": {
        "id": "dcjg2qEp8f6s",
        "colab_type": "code",
        "colab": {
          "base_uri": "https://localhost:8080/",
          "height": 34
        },
        "outputId": "6d3f9fc7-c98f-4a49-b276-8e3dfb2120bc"
      },
      "cell_type": "code",
      "source": [
        "# Difference of two sets is performed by using -\n",
        "\n",
        "A-B"
      ],
      "execution_count": 197,
      "outputs": [
        {
          "output_type": "execute_result",
          "data": {
            "text/plain": [
              "{1, 2, 3}"
            ]
          },
          "metadata": {
            "tags": []
          },
          "execution_count": 197
        }
      ]
    },
    {
      "metadata": {
        "id": "pvmfbku18uNp",
        "colab_type": "code",
        "colab": {
          "base_uri": "https://localhost:8080/",
          "height": 34
        },
        "outputId": "0de9685c-809c-4551-c31f-573f69a81e88"
      },
      "cell_type": "code",
      "source": [
        "B-A"
      ],
      "execution_count": 198,
      "outputs": [
        {
          "output_type": "execute_result",
          "data": {
            "text/plain": [
              "{6, 7, 8}"
            ]
          },
          "metadata": {
            "tags": []
          },
          "execution_count": 198
        }
      ]
    },
    {
      "metadata": {
        "id": "Ei8ry9D88vNk",
        "colab_type": "code",
        "colab": {
          "base_uri": "https://localhost:8080/",
          "height": 34
        },
        "outputId": "81e295f4-28c1-4d34-f253-ced0f6d0968e"
      },
      "cell_type": "code",
      "source": [
        "A.difference(B)"
      ],
      "execution_count": 199,
      "outputs": [
        {
          "output_type": "execute_result",
          "data": {
            "text/plain": [
              "{1, 2, 3}"
            ]
          },
          "metadata": {
            "tags": []
          },
          "execution_count": 199
        }
      ]
    },
    {
      "metadata": {
        "id": "bPUBEzoO8zJ_",
        "colab_type": "code",
        "colab": {
          "base_uri": "https://localhost:8080/",
          "height": 34
        },
        "outputId": "e5ab52c5-f312-42ef-a8c0-661a2761e253"
      },
      "cell_type": "code",
      "source": [
        "B.difference(A)"
      ],
      "execution_count": 200,
      "outputs": [
        {
          "output_type": "execute_result",
          "data": {
            "text/plain": [
              "{6, 7, 8}"
            ]
          },
          "metadata": {
            "tags": []
          },
          "execution_count": 200
        }
      ]
    },
    {
      "metadata": {
        "id": "GIclTmh581Fk",
        "colab_type": "code",
        "colab": {
          "base_uri": "https://localhost:8080/",
          "height": 34
        },
        "outputId": "a225f1d5-5441-44f0-ef28-98e1856cdac2"
      },
      "cell_type": "code",
      "source": [
        "# symmetric difference of two sets is performed by using ^\n",
        "\n",
        "A ^ B # Union of A-B and B-A"
      ],
      "execution_count": 201,
      "outputs": [
        {
          "output_type": "execute_result",
          "data": {
            "text/plain": [
              "{1, 2, 3, 6, 7, 8}"
            ]
          },
          "metadata": {
            "tags": []
          },
          "execution_count": 201
        }
      ]
    },
    {
      "metadata": {
        "id": "RLZuRL0K9UI4",
        "colab_type": "code",
        "colab": {}
      },
      "cell_type": "code",
      "source": [
        "# FROZEN SETS ARE IMMUTABLE SETS\n",
        "# Sets being mutable are unhashable, so they can't be used as dictionary keys. \n",
        "# On the other hand, frozensets are hashable and can be used as keys to a dictionary."
      ],
      "execution_count": 0,
      "outputs": []
    },
    {
      "metadata": {
        "id": "6aQentic-RZ9",
        "colab_type": "code",
        "colab": {}
      },
      "cell_type": "code",
      "source": [
        "A = frozenset([1, 2, 3, 4])\n",
        "B = frozenset([3, 4, 5, 6])"
      ],
      "execution_count": 0,
      "outputs": []
    },
    {
      "metadata": {
        "id": "Su_pz3uf-SeB",
        "colab_type": "code",
        "colab": {
          "base_uri": "https://localhost:8080/",
          "height": 34
        },
        "outputId": "44c2e5ef-09d0-4366-90ee-00187a73399d"
      },
      "cell_type": "code",
      "source": [
        "A"
      ],
      "execution_count": 204,
      "outputs": [
        {
          "output_type": "execute_result",
          "data": {
            "text/plain": [
              "frozenset({1, 2, 3, 4})"
            ]
          },
          "metadata": {
            "tags": []
          },
          "execution_count": 204
        }
      ]
    },
    {
      "metadata": {
        "id": "NY2Ltppa-T0s",
        "colab_type": "code",
        "colab": {
          "base_uri": "https://localhost:8080/",
          "height": 34
        },
        "outputId": "55007acf-23bf-46ba-8854-5525a32c09e7"
      },
      "cell_type": "code",
      "source": [
        "B"
      ],
      "execution_count": 205,
      "outputs": [
        {
          "output_type": "execute_result",
          "data": {
            "text/plain": [
              "frozenset({3, 4, 5, 6})"
            ]
          },
          "metadata": {
            "tags": []
          },
          "execution_count": 205
        }
      ]
    },
    {
      "metadata": {
        "id": "qGIQi92e-UnX",
        "colab_type": "code",
        "colab": {}
      },
      "cell_type": "code",
      "source": [
        "# All other set operations can be performed on frozenset"
      ],
      "execution_count": 0,
      "outputs": []
    },
    {
      "metadata": {
        "id": "VeivyerS-dNZ",
        "colab_type": "code",
        "colab": {
          "base_uri": "https://localhost:8080/",
          "height": 34
        },
        "outputId": "40ae43f8-0abe-4997-a19b-9ec6112d22d3"
      },
      "cell_type": "code",
      "source": [
        "A.isdisjoint(B)"
      ],
      "execution_count": 207,
      "outputs": [
        {
          "output_type": "execute_result",
          "data": {
            "text/plain": [
              "False"
            ]
          },
          "metadata": {
            "tags": []
          },
          "execution_count": 207
        }
      ]
    },
    {
      "metadata": {
        "id": "pqKrSQI0-o8K",
        "colab_type": "code",
        "colab": {
          "base_uri": "https://localhost:8080/",
          "height": 34
        },
        "outputId": "8fbc6cf9-ac92-49a8-f03c-027ca05eae53"
      },
      "cell_type": "code",
      "source": [
        "A | B"
      ],
      "execution_count": 208,
      "outputs": [
        {
          "output_type": "execute_result",
          "data": {
            "text/plain": [
              "frozenset({1, 2, 3, 4, 5, 6})"
            ]
          },
          "metadata": {
            "tags": []
          },
          "execution_count": 208
        }
      ]
    },
    {
      "metadata": {
        "id": "cMFSUp26-rDj",
        "colab_type": "code",
        "colab": {
          "base_uri": "https://localhost:8080/",
          "height": 34
        },
        "outputId": "732e1777-c89c-4b62-d193-a5446581f003"
      },
      "cell_type": "code",
      "source": [
        "A & B"
      ],
      "execution_count": 209,
      "outputs": [
        {
          "output_type": "execute_result",
          "data": {
            "text/plain": [
              "frozenset({3, 4})"
            ]
          },
          "metadata": {
            "tags": []
          },
          "execution_count": 209
        }
      ]
    },
    {
      "metadata": {
        "id": "mPDJYIdp-ut_",
        "colab_type": "code",
        "colab": {}
      },
      "cell_type": "code",
      "source": [
        "# frozenset doesnt have add and update methods"
      ],
      "execution_count": 0,
      "outputs": []
    },
    {
      "metadata": {
        "id": "wPZng0yV_FWq",
        "colab_type": "code",
        "colab": {}
      },
      "cell_type": "code",
      "source": [
        "#*************************************************************************************************************************\n",
        "# PYTHON DICTIONARY\n",
        "#*************************************************************************************************************************"
      ],
      "execution_count": 0,
      "outputs": []
    },
    {
      "metadata": {
        "id": "-Nf1IuCA_4GI",
        "colab_type": "code",
        "colab": {
          "base_uri": "https://localhost:8080/",
          "height": 34
        },
        "outputId": "b097c26c-3a2f-4c54-e333-c769c8429df4"
      },
      "cell_type": "code",
      "source": [
        "# empty dictionary\n",
        "my_dict = {}\n",
        "my_dict"
      ],
      "execution_count": 212,
      "outputs": [
        {
          "output_type": "execute_result",
          "data": {
            "text/plain": [
              "{}"
            ]
          },
          "metadata": {
            "tags": []
          },
          "execution_count": 212
        }
      ]
    },
    {
      "metadata": {
        "id": "dUydnAGKACf5",
        "colab_type": "code",
        "colab": {
          "base_uri": "https://localhost:8080/",
          "height": 34
        },
        "outputId": "2a2219fb-a24a-46f4-d6fa-2f68f2473668"
      },
      "cell_type": "code",
      "source": [
        "# dictionary with integer keys\n",
        "my_dict = {1: 'apple', 2: 'ball'}\n",
        "my_dict"
      ],
      "execution_count": 213,
      "outputs": [
        {
          "output_type": "execute_result",
          "data": {
            "text/plain": [
              "{1: 'apple', 2: 'ball'}"
            ]
          },
          "metadata": {
            "tags": []
          },
          "execution_count": 213
        }
      ]
    },
    {
      "metadata": {
        "id": "53L4jHUvAd3G",
        "colab_type": "code",
        "colab": {
          "base_uri": "https://localhost:8080/",
          "height": 34
        },
        "outputId": "447bbb57-86f1-4a17-dcba-54a6ac4d4d53"
      },
      "cell_type": "code",
      "source": [
        "# dictionary with mixed keys\n",
        "my_dict = {'name': 'John', 1: [2, 4, 3]}\n",
        "my_dict"
      ],
      "execution_count": 214,
      "outputs": [
        {
          "output_type": "execute_result",
          "data": {
            "text/plain": [
              "{1: [2, 4, 3], 'name': 'John'}"
            ]
          },
          "metadata": {
            "tags": []
          },
          "execution_count": 214
        }
      ]
    },
    {
      "metadata": {
        "id": "-XsWyRglAgXI",
        "colab_type": "code",
        "colab": {
          "base_uri": "https://localhost:8080/",
          "height": 34
        },
        "outputId": "02bcb161-1fe9-4ad5-8a04-eac568b1e297"
      },
      "cell_type": "code",
      "source": [
        "# using dict()\n",
        "my_dict = dict({1:'apple', 2:'ball'})\n",
        "my_dict"
      ],
      "execution_count": 215,
      "outputs": [
        {
          "output_type": "execute_result",
          "data": {
            "text/plain": [
              "{1: 'apple', 2: 'ball'}"
            ]
          },
          "metadata": {
            "tags": []
          },
          "execution_count": 215
        }
      ]
    },
    {
      "metadata": {
        "id": "w1qc1u49AkNX",
        "colab_type": "code",
        "colab": {
          "base_uri": "https://localhost:8080/",
          "height": 34
        },
        "outputId": "d7a5442c-8879-4673-8f4c-35e470b8b8d5"
      },
      "cell_type": "code",
      "source": [
        "# from sequence having each item as a pair\n",
        "my_dict = dict([(1,'apple'), (2,'ball')])\n",
        "my_dict"
      ],
      "execution_count": 216,
      "outputs": [
        {
          "output_type": "execute_result",
          "data": {
            "text/plain": [
              "{1: 'apple', 2: 'ball'}"
            ]
          },
          "metadata": {
            "tags": []
          },
          "execution_count": 216
        }
      ]
    },
    {
      "metadata": {
        "id": "itF07NtdAmQU",
        "colab_type": "code",
        "colab": {
          "base_uri": "https://localhost:8080/",
          "height": 51
        },
        "outputId": "75db9c4a-e20d-493b-8bfa-5915a984f410"
      },
      "cell_type": "code",
      "source": [
        "# accessing elements from dictionary\n",
        "\n",
        "my_dict = {'name':'Jack', 'age': 26}\n",
        "\n",
        "# Output: Jack\n",
        "print(my_dict['name'])\n",
        "\n",
        "# Output: 26\n",
        "print(my_dict.get('age'))\n",
        "\n",
        "# The difference while using get() is that it returns None instead of KeyError, if the key is not found\n"
      ],
      "execution_count": 217,
      "outputs": [
        {
          "output_type": "stream",
          "text": [
            "Jack\n",
            "26\n"
          ],
          "name": "stdout"
        }
      ]
    },
    {
      "metadata": {
        "id": "i32dwvHTB95J",
        "colab_type": "code",
        "colab": {}
      },
      "cell_type": "code",
      "source": [
        "# Dictionary is mutable in python"
      ],
      "execution_count": 0,
      "outputs": []
    },
    {
      "metadata": {
        "id": "QIszpYTTEEbI",
        "colab_type": "code",
        "colab": {
          "base_uri": "https://localhost:8080/",
          "height": 51
        },
        "outputId": "a43c26e3-cd81-4604-d6f4-ace7bf9ebf9f"
      },
      "cell_type": "code",
      "source": [
        "# adding or updating elements in dictionary\n",
        "my_dict = {'name':'Jack', 'age': 26}\n",
        "\n",
        "# update value\n",
        "my_dict['age'] = 27\n",
        "\n",
        "print(my_dict)\n",
        "\n",
        "# add item\n",
        "my_dict['address'] = 'Downtown'  \n",
        "\n",
        "print(my_dict)"
      ],
      "execution_count": 219,
      "outputs": [
        {
          "output_type": "stream",
          "text": [
            "{'name': 'Jack', 'age': 27}\n",
            "{'name': 'Jack', 'age': 27, 'address': 'Downtown'}\n"
          ],
          "name": "stdout"
        }
      ]
    },
    {
      "metadata": {
        "id": "BkHMsj28EMS3",
        "colab_type": "code",
        "colab": {
          "base_uri": "https://localhost:8080/",
          "height": 102
        },
        "outputId": "b14d1ee3-89f0-4396-ff97-32af9aecb64a"
      },
      "cell_type": "code",
      "source": [
        "marks = {}.fromkeys(['Math','English','Science'], 0)\n",
        "\n",
        "print(marks)\n",
        "\n",
        "for item in marks.items():\n",
        "    print(item)\n",
        "\n",
        "list(sorted(marks.keys()))"
      ],
      "execution_count": 220,
      "outputs": [
        {
          "output_type": "stream",
          "text": [
            "{'Math': 0, 'English': 0, 'Science': 0}\n",
            "('Math', 0)\n",
            "('English', 0)\n",
            "('Science', 0)\n"
          ],
          "name": "stdout"
        },
        {
          "output_type": "execute_result",
          "data": {
            "text/plain": [
              "['English', 'Math', 'Science']"
            ]
          },
          "metadata": {
            "tags": []
          },
          "execution_count": 220
        }
      ]
    },
    {
      "metadata": {
        "id": "CqgnuspGvdm_",
        "colab_type": "code",
        "colab": {
          "base_uri": "https://localhost:8080/",
          "height": 85
        },
        "outputId": "34d4fae0-b478-46d4-d584-1e95b97fdaa0"
      },
      "cell_type": "code",
      "source": [
        "# Delete or remove elements from dictionary\n",
        "squares = {1:1, 2:4, 3:9, 4:16, 5:25}\n",
        "\n",
        "#POP return the value when the key is given and removes the key-value pair\n",
        "print(squares.pop(4))  \n",
        "\n",
        "print(squares)\n",
        "\n",
        "#POPITEM removes any arbitary key-value pair in the dictionary\n",
        "#print(squares.popitem())\n",
        "\n",
        "#print(squares)\n",
        "\n",
        "# delete a particular item\n",
        "del squares[5]  \n",
        "\n",
        "# Output: {2: 4, 3: 9}\n",
        "print(squares)\n",
        "\n",
        "# remove all items\n",
        "squares.clear()\n",
        "\n",
        "# Output: {}\n",
        "print(squares)\n",
        "\n",
        "# delete the dictionary itself\n",
        "del squares\n"
      ],
      "execution_count": 221,
      "outputs": [
        {
          "output_type": "stream",
          "text": [
            "16\n",
            "{1: 1, 2: 4, 3: 9, 5: 25}\n",
            "{1: 1, 2: 4, 3: 9}\n",
            "{}\n"
          ],
          "name": "stdout"
        }
      ]
    },
    {
      "metadata": {
        "id": "qbQphyWP2kF5",
        "colab_type": "code",
        "colab": {}
      },
      "cell_type": "code",
      "source": [
        "#*************************************************************************************************************************\n",
        "# PYTHON NESTED DICTIONARY\n",
        "#*************************************************************************************************************************"
      ],
      "execution_count": 0,
      "outputs": []
    },
    {
      "metadata": {
        "id": "2j9I4vGZ1ubS",
        "colab_type": "code",
        "colab": {
          "base_uri": "https://localhost:8080/",
          "height": 34
        },
        "outputId": "655bb6f5-1205-4fdb-b9c6-cb4f604c2f14"
      },
      "cell_type": "code",
      "source": [
        "# In python, a dictionary is unordered collection of key-value pairs\n",
        "\n",
        "people = {1: {'name': 'John', 'age': '27', 'sex': 'Male'},\n",
        "          2: {'name': 'Marie', 'age': '22', 'sex': 'Female'}}\n",
        "\n",
        "print(people)\n"
      ],
      "execution_count": 223,
      "outputs": [
        {
          "output_type": "stream",
          "text": [
            "{1: {'name': 'John', 'age': '27', 'sex': 'Male'}, 2: {'name': 'Marie', 'age': '22', 'sex': 'Female'}}\n"
          ],
          "name": "stdout"
        }
      ]
    },
    {
      "metadata": {
        "id": "1ud6I9IY2sR1",
        "colab_type": "code",
        "colab": {
          "base_uri": "https://localhost:8080/",
          "height": 34
        },
        "outputId": "b81f3435-40c5-4578-e2f6-208a6629fa67"
      },
      "cell_type": "code",
      "source": [
        "# Accessing elements in nested dictionary\n",
        "\n",
        "people[1]['age']"
      ],
      "execution_count": 224,
      "outputs": [
        {
          "output_type": "execute_result",
          "data": {
            "text/plain": [
              "'27'"
            ]
          },
          "metadata": {
            "tags": []
          },
          "execution_count": 224
        }
      ]
    },
    {
      "metadata": {
        "id": "hXlR-rF42-kY",
        "colab_type": "code",
        "colab": {
          "base_uri": "https://localhost:8080/",
          "height": 34
        },
        "outputId": "1d3cf1e9-6554-47c1-b0f2-064fd9b3f93b"
      },
      "cell_type": "code",
      "source": [
        "people[2]['name']"
      ],
      "execution_count": 225,
      "outputs": [
        {
          "output_type": "execute_result",
          "data": {
            "text/plain": [
              "'Marie'"
            ]
          },
          "metadata": {
            "tags": []
          },
          "execution_count": 225
        }
      ]
    },
    {
      "metadata": {
        "id": "odX_xOJc3BwB",
        "colab_type": "code",
        "colab": {
          "base_uri": "https://localhost:8080/",
          "height": 34
        },
        "outputId": "21336e07-dce0-46e7-cb47-5c5530563d6d"
      },
      "cell_type": "code",
      "source": [
        "people[1]['sex']"
      ],
      "execution_count": 226,
      "outputs": [
        {
          "output_type": "execute_result",
          "data": {
            "text/plain": [
              "'Male'"
            ]
          },
          "metadata": {
            "tags": []
          },
          "execution_count": 226
        }
      ]
    },
    {
      "metadata": {
        "id": "l6rH6-PH3Gty",
        "colab_type": "code",
        "colab": {}
      },
      "cell_type": "code",
      "source": [
        "# Adding elemenst to a nested dictionary\n",
        "people[3]={}\n",
        "people[3]['age'] = 30\n",
        "people[3]['name'] = 'Einstein'\n",
        "people[3]['sex'] = 'Male'"
      ],
      "execution_count": 0,
      "outputs": []
    },
    {
      "metadata": {
        "id": "rgAK2ELD3iHh",
        "colab_type": "code",
        "colab": {
          "base_uri": "https://localhost:8080/",
          "height": 68
        },
        "outputId": "50800edc-d28c-49f1-ecb3-6bd1f37e8fe8"
      },
      "cell_type": "code",
      "source": [
        "people"
      ],
      "execution_count": 228,
      "outputs": [
        {
          "output_type": "execute_result",
          "data": {
            "text/plain": [
              "{1: {'age': '27', 'name': 'John', 'sex': 'Male'},\n",
              " 2: {'age': '22', 'name': 'Marie', 'sex': 'Female'},\n",
              " 3: {'age': 30, 'name': 'Einstein', 'sex': 'Male'}}"
            ]
          },
          "metadata": {
            "tags": []
          },
          "execution_count": 228
        }
      ]
    },
    {
      "metadata": {
        "id": "K3fZG_rW3rJh",
        "colab_type": "code",
        "colab": {}
      },
      "cell_type": "code",
      "source": [
        "# deleting elements from dictionary\n",
        "people = {1: {'Name': 'John', 'Age': '27', 'Sex': 'Male'},\n",
        "          2: {'Name': 'Marie', 'Age': '22', 'Sex': 'Female'}}"
      ],
      "execution_count": 0,
      "outputs": []
    },
    {
      "metadata": {
        "id": "JW4tfn05Phhq",
        "colab_type": "code",
        "colab": {
          "base_uri": "https://localhost:8080/",
          "height": 187
        },
        "outputId": "34e5baf9-a341-4dfd-ada5-c824656ca235"
      },
      "cell_type": "code",
      "source": [
        "for p_id, p_info in people.items():\n",
        "    print(\"\\nPerson ID:\", p_id)\n",
        "    \n",
        "    for key in p_info:\n",
        "        print(key + ':', p_info[key])"
      ],
      "execution_count": 237,
      "outputs": [
        {
          "output_type": "stream",
          "text": [
            "\n",
            "Person ID: 1\n",
            "Name: John\n",
            "Age: 27\n",
            "Sex: Male\n",
            "\n",
            "Person ID: 2\n",
            "Name: Marie\n",
            "Age: 22\n",
            "Sex: Female\n"
          ],
          "name": "stdout"
        }
      ]
    },
    {
      "metadata": {
        "id": "TIUtPGuOPotW",
        "colab_type": "code",
        "colab": {}
      },
      "cell_type": "code",
      "source": [
        "#*************************************************************************************************************************\n",
        "# PYTHON ARRAYS\n",
        "# We are using lists as arrays in this exercise\n",
        "#*************************************************************************************************************************"
      ],
      "execution_count": 0,
      "outputs": []
    },
    {
      "metadata": {
        "id": "xqncLsmURgkf",
        "colab_type": "code",
        "colab": {}
      },
      "cell_type": "code",
      "source": [
        "arr = [10, 20, 30, 40, 50]"
      ],
      "execution_count": 0,
      "outputs": []
    },
    {
      "metadata": {
        "id": "YU-lvlYGRip_",
        "colab_type": "code",
        "colab": {
          "base_uri": "https://localhost:8080/",
          "height": 34
        },
        "outputId": "108d7af4-a9d4-4c89-e5fe-9e7994a4e1ba"
      },
      "cell_type": "code",
      "source": [
        "arr[0] # returns first element"
      ],
      "execution_count": 240,
      "outputs": [
        {
          "output_type": "execute_result",
          "data": {
            "text/plain": [
              "10"
            ]
          },
          "metadata": {
            "tags": []
          },
          "execution_count": 240
        }
      ]
    },
    {
      "metadata": {
        "id": "-GEzRUyhRkWA",
        "colab_type": "code",
        "colab": {
          "base_uri": "https://localhost:8080/",
          "height": 34
        },
        "outputId": "47d3c983-894e-424c-e6ef-3a730473815e"
      },
      "cell_type": "code",
      "source": [
        "arr[-1] # returns last element"
      ],
      "execution_count": 244,
      "outputs": [
        {
          "output_type": "execute_result",
          "data": {
            "text/plain": [
              "50"
            ]
          },
          "metadata": {
            "tags": []
          },
          "execution_count": 244
        }
      ]
    },
    {
      "metadata": {
        "id": "YABw-gNlRn1_",
        "colab_type": "code",
        "colab": {}
      },
      "cell_type": "code",
      "source": [
        "brands = [\"Coke\", \"Apple\", \"Google\", \"Microsoft\", \"Toyota\"]"
      ],
      "execution_count": 0,
      "outputs": []
    },
    {
      "metadata": {
        "id": "14mWcnwUR5N9",
        "colab_type": "code",
        "colab": {}
      },
      "cell_type": "code",
      "source": [
        "num_brands = len(brands)"
      ],
      "execution_count": 0,
      "outputs": []
    },
    {
      "metadata": {
        "id": "gbfFEWrqR9Vu",
        "colab_type": "code",
        "colab": {
          "base_uri": "https://localhost:8080/",
          "height": 34
        },
        "outputId": "8ede51ca-cf54-4566-ce32-c474c0dc030c"
      },
      "cell_type": "code",
      "source": [
        "num_brands"
      ],
      "execution_count": 247,
      "outputs": [
        {
          "output_type": "execute_result",
          "data": {
            "text/plain": [
              "5"
            ]
          },
          "metadata": {
            "tags": []
          },
          "execution_count": 247
        }
      ]
    },
    {
      "metadata": {
        "id": "UKDNaxhXR_XX",
        "colab_type": "code",
        "colab": {
          "base_uri": "https://localhost:8080/",
          "height": 34
        },
        "outputId": "569abdfd-ef5c-4ab7-9ad8-4014688276fd"
      },
      "cell_type": "code",
      "source": [
        "add = ['a', 'b', 'c']\n",
        "add.append('d')\n",
        "print(add)"
      ],
      "execution_count": 248,
      "outputs": [
        {
          "output_type": "stream",
          "text": [
            "['a', 'b', 'c', 'd']\n"
          ],
          "name": "stdout"
        }
      ]
    },
    {
      "metadata": {
        "id": "l5oAtU6fSEsO",
        "colab_type": "code",
        "colab": {
          "base_uri": "https://localhost:8080/",
          "height": 34
        },
        "outputId": "1b321c2f-fb40-4270-cc8f-9f56238f069c"
      },
      "cell_type": "code",
      "source": [
        "colors = [\"violet\", \"indigo\", \"blue\", \"green\", \"yellow\", \"orange\", \"red\"]\n",
        "del colors[4]\n",
        "colors.remove(\"blue\") # used value with remove method\n",
        "colors.pop(3) # used index with pop method\n",
        "print(colors)"
      ],
      "execution_count": 251,
      "outputs": [
        {
          "output_type": "stream",
          "text": [
            "['violet', 'indigo', 'green', 'red']\n"
          ],
          "name": "stdout"
        }
      ]
    },
    {
      "metadata": {
        "id": "vf809OhqS2fL",
        "colab_type": "code",
        "colab": {}
      },
      "cell_type": "code",
      "source": [
        "#*************************************************************************************************************************\n",
        "# LIST COMPREHENSION VS FOR LOOP IN PYTHON\n",
        "#*************************************************************************************************************************"
      ],
      "execution_count": 0,
      "outputs": []
    },
    {
      "metadata": {
        "id": "1BIVJ2I0Tg2C",
        "colab_type": "code",
        "colab": {
          "base_uri": "https://localhost:8080/",
          "height": 34
        },
        "outputId": "f9333145-e966-4622-cc28-6f08f7d95e07"
      },
      "cell_type": "code",
      "source": [
        "h_letters = []\n",
        "\n",
        "for letter in 'human':\n",
        "    h_letters.append(letter)\n",
        "\n",
        "print(h_letters)"
      ],
      "execution_count": 254,
      "outputs": [
        {
          "output_type": "stream",
          "text": [
            "['h', 'u', 'm', 'a', 'n']\n"
          ],
          "name": "stdout"
        }
      ]
    },
    {
      "metadata": {
        "id": "lEe0eLKPTn7s",
        "colab_type": "code",
        "colab": {
          "base_uri": "https://localhost:8080/",
          "height": 34
        },
        "outputId": "ca895ea3-29d2-4710-c699-fd8a48c5c74d"
      },
      "cell_type": "code",
      "source": [
        "# WRITING ABOVVE LOGIC USING LIST COMPREHENSION\n",
        "\n",
        "h_letters=[letter for letter in 'human']\n",
        "\n",
        "h_letters"
      ],
      "execution_count": 256,
      "outputs": [
        {
          "output_type": "execute_result",
          "data": {
            "text/plain": [
              "['h', 'u', 'm', 'a', 'n']"
            ]
          },
          "metadata": {
            "tags": []
          },
          "execution_count": 256
        }
      ]
    },
    {
      "metadata": {
        "id": "YIWGz91AT_49",
        "colab_type": "code",
        "colab": {}
      },
      "cell_type": "code",
      "source": [
        "#*************************************************************************************************************************\n",
        "# LIST COMPREHENSION VS LAMBDA FUNCTIONS IN PYTHON\n",
        "# List comprehension is generally more compact and faster than normal functions and loops for creating list\n",
        "#*************************************************************************************************************************"
      ],
      "execution_count": 0,
      "outputs": []
    },
    {
      "metadata": {
        "id": "QGyn4dx7U2Zi",
        "colab_type": "code",
        "colab": {
          "base_uri": "https://localhost:8080/",
          "height": 34
        },
        "outputId": "9a816101-80a5-46dd-80eb-7652e029337b"
      },
      "cell_type": "code",
      "source": [
        "h_letters = list(map(lambda x: x, 'human'))\n",
        "h_letters"
      ],
      "execution_count": 258,
      "outputs": [
        {
          "output_type": "execute_result",
          "data": {
            "text/plain": [
              "['h', 'u', 'm', 'a', 'n']"
            ]
          },
          "metadata": {
            "tags": []
          },
          "execution_count": 258
        }
      ]
    },
    {
      "metadata": {
        "id": "TD1oZ3tfU5vn",
        "colab_type": "code",
        "colab": {
          "base_uri": "https://localhost:8080/",
          "height": 34
        },
        "outputId": "7863670b-a80d-4b06-9070-597475a2cce7"
      },
      "cell_type": "code",
      "source": [
        "# Conditions in List Comprehension\n",
        "\n",
        "number_list = [ x for x in range(20) if x % 2 == 0]\n",
        "print(number_list)"
      ],
      "execution_count": 259,
      "outputs": [
        {
          "output_type": "stream",
          "text": [
            "[0, 2, 4, 6, 8, 10, 12, 14, 16, 18]\n"
          ],
          "name": "stdout"
        }
      ]
    },
    {
      "metadata": {
        "id": "p8xZ0-2BVI8V",
        "colab_type": "code",
        "colab": {
          "base_uri": "https://localhost:8080/",
          "height": 34
        },
        "outputId": "2a81445d-dc75-4181-b409-732a1bd53b36"
      },
      "cell_type": "code",
      "source": [
        "# Nested if with list comprehension\n",
        "\n",
        "num_list = [y for y in range(100) if y % 2 == 0 if y % 5 == 0]\n",
        "print(num_list)"
      ],
      "execution_count": 260,
      "outputs": [
        {
          "output_type": "stream",
          "text": [
            "[0, 10, 20, 30, 40, 50, 60, 70, 80, 90]\n"
          ],
          "name": "stdout"
        }
      ]
    },
    {
      "metadata": {
        "id": "krKeDSk_VUSi",
        "colab_type": "code",
        "colab": {
          "base_uri": "https://localhost:8080/",
          "height": 34
        },
        "outputId": "6d761873-dc6b-4790-ef9f-2859769497d7"
      },
      "cell_type": "code",
      "source": [
        "# If..Else in List Comprehension\n",
        "\n",
        "obj = [\"Even\" if i%2==0 else \"Odd\" for i in range(10)]\n",
        "print(obj)"
      ],
      "execution_count": 262,
      "outputs": [
        {
          "output_type": "stream",
          "text": [
            "['Even', 'Odd', 'Even', 'Odd', 'Even', 'Odd', 'Even', 'Odd', 'Even', 'Odd']\n"
          ],
          "name": "stdout"
        }
      ]
    },
    {
      "metadata": {
        "id": "fAowLqJDV63x",
        "colab_type": "code",
        "colab": {}
      },
      "cell_type": "code",
      "source": [
        "# Nested loops in list comprehension"
      ],
      "execution_count": 0,
      "outputs": []
    },
    {
      "metadata": {
        "id": "40FkitJqWPIm",
        "colab_type": "code",
        "colab": {
          "base_uri": "https://localhost:8080/",
          "height": 34
        },
        "outputId": "03fe052f-6b44-4854-b8de-3de98e529b34"
      },
      "cell_type": "code",
      "source": [
        "# transpose matrix using list comprehension\n",
        "\n",
        "matrix = [[1, 2],[3,4],[5,6],[7,8]]\n",
        "transpose = [[row[i] for row in matrix] for i in range(2)]\n",
        "print (transpose)\n",
        "  "
      ],
      "execution_count": 264,
      "outputs": [
        {
          "output_type": "stream",
          "text": [
            "[[1, 3, 5, 7], [2, 4, 6, 8]]\n"
          ],
          "name": "stdout"
        }
      ]
    },
    {
      "metadata": {
        "id": "6q83XIUxXjuz",
        "colab_type": "code",
        "colab": {
          "base_uri": "https://localhost:8080/",
          "height": 34
        },
        "outputId": "1e789194-7120-4b49-876a-0e3ae86aac72"
      },
      "cell_type": "code",
      "source": [
        "# transpose matrix using nested loops\n",
        "transposed =[]\n",
        "for i in range(2):\n",
        "  temp=[]\n",
        "  for row in matrix:\n",
        "    temp.append(row[i])\n",
        "  transposed.append(temp)\n",
        "  \n",
        "print(transposed)"
      ],
      "execution_count": 271,
      "outputs": [
        {
          "output_type": "stream",
          "text": [
            "[[1, 3, 5, 7], [2, 4, 6, 8]]\n"
          ],
          "name": "stdout"
        }
      ]
    },
    {
      "metadata": {
        "id": "EGd2pGtHYSfP",
        "colab_type": "code",
        "colab": {}
      },
      "cell_type": "code",
      "source": [
        ""
      ],
      "execution_count": 0,
      "outputs": []
    }
  ]
}