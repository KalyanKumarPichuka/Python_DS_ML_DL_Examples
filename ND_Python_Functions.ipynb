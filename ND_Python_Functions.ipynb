{
  "nbformat": 4,
  "nbformat_minor": 0,
  "metadata": {
    "colab": {
      "name": "ND_Python_Functions.ipynb",
      "version": "0.3.2",
      "provenance": [],
      "collapsed_sections": [],
      "include_colab_link": true
    },
    "kernelspec": {
      "name": "python3",
      "display_name": "Python 3"
    }
  },
  "cells": [
    {
      "cell_type": "markdown",
      "metadata": {
        "id": "view-in-github",
        "colab_type": "text"
      },
      "source": [
        "[View in Colaboratory](https://colab.research.google.com/github/kalyan369/Python_DS_ML_DL_Examples/blob/master/ND_Python_Functions.ipynb)"
      ]
    },
    {
      "metadata": {
        "id": "mDytLn6WZn2W",
        "colab_type": "code",
        "colab": {}
      },
      "cell_type": "code",
      "source": [
        "#********************************************************************************************************************\n",
        "# FUNCTIONS IN PYTHON\n",
        "# function is a group of statements which performs specific task\n",
        "# function brings modularity to our program\n",
        "# It reduces redudant code and makes code reusable\n",
        "#********************************************************************************************************************"
      ],
      "execution_count": 0,
      "outputs": []
    },
    {
      "metadata": {
        "id": "yjIzwJzxaNL-",
        "colab_type": "code",
        "colab": {}
      },
      "cell_type": "code",
      "source": [
        "def greet(name):\n",
        "  \"\"\" This function greets to the person name sent as argument\"\"\"\n",
        "  print('Hello '+name+'. Good Morning!')"
      ],
      "execution_count": 0,
      "outputs": []
    },
    {
      "metadata": {
        "id": "VrxKpUyqdDhb",
        "colab_type": "code",
        "colab": {
          "base_uri": "https://localhost:8080/",
          "height": 34
        },
        "outputId": "2fe36beb-2182-4678-fa1d-a8b608bef24f"
      },
      "cell_type": "code",
      "source": [
        "greet('Ramanujan')"
      ],
      "execution_count": 30,
      "outputs": [
        {
          "output_type": "stream",
          "text": [
            "Hello Ramanujan. Good Morning!\n"
          ],
          "name": "stdout"
        }
      ]
    },
    {
      "metadata": {
        "id": "zOcX3K2QdGGB",
        "colab_type": "code",
        "colab": {}
      },
      "cell_type": "code",
      "source": [
        "# Example of return in function\n",
        "def absolute_value(num):\n",
        "  \"\"\" This function returns the absolute value\"\"\"\n",
        "  if num>=0:\n",
        "    return num\n",
        "  else:\n",
        "    return -num\n",
        "  "
      ],
      "execution_count": 0,
      "outputs": []
    },
    {
      "metadata": {
        "id": "3F2TBUoXmZpy",
        "colab_type": "code",
        "colab": {
          "base_uri": "https://localhost:8080/",
          "height": 34
        },
        "outputId": "af5114a9-d3d4-4dd0-9063-3f51fcf3642f"
      },
      "cell_type": "code",
      "source": [
        "absolute_value(2)"
      ],
      "execution_count": 32,
      "outputs": [
        {
          "output_type": "execute_result",
          "data": {
            "text/plain": [
              "2"
            ]
          },
          "metadata": {
            "tags": []
          },
          "execution_count": 32
        }
      ]
    },
    {
      "metadata": {
        "id": "9XoUKGsVmc6O",
        "colab_type": "code",
        "colab": {
          "base_uri": "https://localhost:8080/",
          "height": 34
        },
        "outputId": "204d7aa3-fdf5-4161-81ed-30eb9d4db74a"
      },
      "cell_type": "code",
      "source": [
        "absolute_value(-9)"
      ],
      "execution_count": 33,
      "outputs": [
        {
          "output_type": "execute_result",
          "data": {
            "text/plain": [
              "9"
            ]
          },
          "metadata": {
            "tags": []
          },
          "execution_count": 33
        }
      ]
    },
    {
      "metadata": {
        "id": "IEg4CxF0mnII",
        "colab_type": "code",
        "colab": {
          "base_uri": "https://localhost:8080/",
          "height": 51
        },
        "outputId": "e80af102-a79b-4785-8b73-18975075b7ae"
      },
      "cell_type": "code",
      "source": [
        "def my_func():\n",
        "  x=10\n",
        "  print('Value inside function',x)\n",
        "\n",
        "x =20\n",
        "my_func()\n",
        "print('Value outside function',x)"
      ],
      "execution_count": 34,
      "outputs": [
        {
          "output_type": "stream",
          "text": [
            "Value inside function 10\n",
            "Value outside function 20\n"
          ],
          "name": "stdout"
        }
      ]
    },
    {
      "metadata": {
        "id": "OvDftAJtnBgU",
        "colab_type": "code",
        "colab": {}
      },
      "cell_type": "code",
      "source": [
        "#********************************************************************************************************************\n",
        "# PYTHON FUNCTION ARGUMENTS\n",
        "#********************************************************************************************************************"
      ],
      "execution_count": 0,
      "outputs": []
    },
    {
      "metadata": {
        "id": "UHwXAAG5ptuo",
        "colab_type": "code",
        "colab": {}
      },
      "cell_type": "code",
      "source": [
        "# In user-defined function, while calling function all the arguments has be passes. Otherwise it results in error"
      ],
      "execution_count": 0,
      "outputs": []
    },
    {
      "metadata": {
        "id": "AQUgYGQwqay1",
        "colab_type": "code",
        "colab": {}
      },
      "cell_type": "code",
      "source": [
        "def greet(name,msg):\n",
        "  \"\"\"This function greets the person with provided message\"\"\"\n",
        "  print('Hello',name,msg)"
      ],
      "execution_count": 0,
      "outputs": []
    },
    {
      "metadata": {
        "id": "nsHfAMlxqu-n",
        "colab_type": "code",
        "colab": {
          "base_uri": "https://localhost:8080/",
          "height": 34
        },
        "outputId": "3b4b487b-48ed-423d-965d-cdfb4e7f70ca"
      },
      "cell_type": "code",
      "source": [
        "greet('Stephen Hawking','Good Morning!')"
      ],
      "execution_count": 38,
      "outputs": [
        {
          "output_type": "stream",
          "text": [
            "Hello Stephen Hawking Good Morning!\n"
          ],
          "name": "stdout"
        }
      ]
    },
    {
      "metadata": {
        "id": "KqWMcyFWq0yt",
        "colab_type": "code",
        "colab": {}
      },
      "cell_type": "code",
      "source": [
        "#greet('Stephen Hawking') ==> THIS THROWS AN ERROR AS ONLY ONE ARGUMENT WAS PASSED"
      ],
      "execution_count": 0,
      "outputs": []
    },
    {
      "metadata": {
        "id": "LYdgbxO_q4fu",
        "colab_type": "code",
        "colab": {}
      },
      "cell_type": "code",
      "source": [
        "#********************************************************************************************************************\n",
        "# VARIABLE FUNCTION ARGUMENTS\n",
        "# In python we can define function with variable number of arguments\n",
        "#********************************************************************************************************************"
      ],
      "execution_count": 0,
      "outputs": []
    },
    {
      "metadata": {
        "id": "uN2RJ_X_rkDc",
        "colab_type": "code",
        "colab": {}
      },
      "cell_type": "code",
      "source": [
        "def greet(name,msg='Good Morning!'):\n",
        "  \n",
        "  \"\"\" This function greets the person with the message provided\n",
        "      If the message is not provided in the arguments, it defaults to Good Morning!\n",
        "      name - mandatory\n",
        "      msg - not mandatory\n",
        "  \"\"\"\n",
        "  \n",
        "  print('Hello',name,msg)"
      ],
      "execution_count": 0,
      "outputs": []
    },
    {
      "metadata": {
        "id": "wrB_7qWosSlm",
        "colab_type": "code",
        "colab": {
          "base_uri": "https://localhost:8080/",
          "height": 34
        },
        "outputId": "fb199773-789f-4b8c-9ad4-41995d49c679"
      },
      "cell_type": "code",
      "source": [
        "greet(\"Albert\",\"How do you do?\")"
      ],
      "execution_count": 42,
      "outputs": [
        {
          "output_type": "stream",
          "text": [
            "Hello Albert How do you do?\n"
          ],
          "name": "stdout"
        }
      ]
    },
    {
      "metadata": {
        "id": "vJjyi4HMsa7i",
        "colab_type": "code",
        "colab": {
          "base_uri": "https://localhost:8080/",
          "height": 34
        },
        "outputId": "8b2dada6-b085-4466-d122-af1524d96afa"
      },
      "cell_type": "code",
      "source": [
        "greet('Albert')"
      ],
      "execution_count": 43,
      "outputs": [
        {
          "output_type": "stream",
          "text": [
            "Hello Albert Good Morning!\n"
          ],
          "name": "stdout"
        }
      ]
    },
    {
      "metadata": {
        "id": "pDcfih92sdb2",
        "colab_type": "code",
        "colab": {}
      },
      "cell_type": "code",
      "source": [
        "# ALWAYS DEFAULT AGRUMENTS SHOULD FOLLOW NON-DEFAULT AGRUMENTS IN PYTHON FUNCTIONS "
      ],
      "execution_count": 0,
      "outputs": []
    },
    {
      "metadata": {
        "id": "1PhUfVbouMcF",
        "colab_type": "code",
        "colab": {}
      },
      "cell_type": "code",
      "source": [
        "#********************************************************************************************************************\n",
        "# PYTHON ARBITARY ARGUMENTS\n",
        "# sometimes we dont know in advance the number of arguments that will be passed to a fucntion\n",
        "# python allows us to handle this kind of situation through function calls with arbitary arguments\n",
        "#********************************************************************************************************************"
      ],
      "execution_count": 0,
      "outputs": []
    },
    {
      "metadata": {
        "id": "MKY261F-VNHg",
        "colab_type": "code",
        "colab": {}
      },
      "cell_type": "code",
      "source": [
        "def greet(*names):\n",
        "  \n",
        "  \"\"\"This greets all the persons in the names tuple\"\"\"\n",
        "  \n",
        "  for name in names:\n",
        "    print('Hello',name)"
      ],
      "execution_count": 0,
      "outputs": []
    },
    {
      "metadata": {
        "id": "th03ElWLVdrz",
        "colab_type": "code",
        "colab": {
          "base_uri": "https://localhost:8080/",
          "height": 85
        },
        "outputId": "f6beeebe-7dcc-4296-bef1-f88aac8ab009"
      },
      "cell_type": "code",
      "source": [
        "greet('Kalyan','Ravi','Kiran','Kumar')"
      ],
      "execution_count": 47,
      "outputs": [
        {
          "output_type": "stream",
          "text": [
            "Hello Kalyan\n",
            "Hello Ravi\n",
            "Hello Kiran\n",
            "Hello Kumar\n"
          ],
          "name": "stdout"
        }
      ]
    },
    {
      "metadata": {
        "id": "KLVpZi6VVq2Q",
        "colab_type": "code",
        "colab": {}
      },
      "cell_type": "code",
      "source": [
        "# RECURSION IN PYTHON\n",
        "# Recursion is the process of defining something in terms of itself"
      ],
      "execution_count": 0,
      "outputs": []
    },
    {
      "metadata": {
        "id": "C8ADj8LpXng6",
        "colab_type": "code",
        "colab": {}
      },
      "cell_type": "code",
      "source": [
        "# PYTHON RECURSIVE FUNCTION\n",
        "# is nothing but calling a function by itself"
      ],
      "execution_count": 0,
      "outputs": []
    },
    {
      "metadata": {
        "id": "f2OxVdGAYO89",
        "colab_type": "code",
        "colab": {}
      },
      "cell_type": "code",
      "source": [
        "#RECURSIVE FUNCTION\n",
        "\n",
        "def calc_factorial(x):\n",
        "  \n",
        "  \"\"\"This is a recursive function to find the factorial of an integer\"\"\"\n",
        "  \n",
        "  if x==1:\n",
        "    return 1\n",
        "  else:\n",
        "    return (x * calc_factorial(x-1))"
      ],
      "execution_count": 0,
      "outputs": []
    },
    {
      "metadata": {
        "id": "P_V39nofYzoJ",
        "colab_type": "code",
        "colab": {
          "base_uri": "https://localhost:8080/",
          "height": 34
        },
        "outputId": "7ed70dc6-d1dc-4da6-c988-300df88a5efd"
      },
      "cell_type": "code",
      "source": [
        "num = 6\n",
        "print('The factorial of',num,'is',calc_factorial(num))"
      ],
      "execution_count": 53,
      "outputs": [
        {
          "output_type": "stream",
          "text": [
            "The factorial of 6 is 720\n"
          ],
          "name": "stdout"
        }
      ]
    },
    {
      "metadata": {
        "id": "YEZ4amOmZEFw",
        "colab_type": "code",
        "colab": {}
      },
      "cell_type": "code",
      "source": [
        "#********************************************************************************************************************\n",
        "# PYTHON ANONYMOUS/LANBDA FUNCTION\n",
        "# Anonymous function is a name without name\n",
        "# Lambda functions can be used whenever function objects are required\n",
        "#********************************************************************************************************************"
      ],
      "execution_count": 0,
      "outputs": []
    },
    {
      "metadata": {
        "id": "x5mzjK-Pb2oC",
        "colab_type": "code",
        "colab": {}
      },
      "cell_type": "code",
      "source": [
        "double = lambda x:x*2"
      ],
      "execution_count": 0,
      "outputs": []
    },
    {
      "metadata": {
        "id": "3KZB84tTr3Wq",
        "colab_type": "code",
        "colab": {
          "base_uri": "https://localhost:8080/",
          "height": 34
        },
        "outputId": "d24d85a2-d5d5-4006-d19f-f034523c1f67"
      },
      "cell_type": "code",
      "source": [
        "double(5)"
      ],
      "execution_count": 59,
      "outputs": [
        {
          "output_type": "execute_result",
          "data": {
            "text/plain": [
              "10"
            ]
          },
          "metadata": {
            "tags": []
          },
          "execution_count": 59
        }
      ]
    },
    {
      "metadata": {
        "id": "EObxO-7Nr5mE",
        "colab_type": "code",
        "colab": {}
      },
      "cell_type": "code",
      "source": [
        "# Anonymous functions are used as aruments of higher order functions\n",
        "# Higher order functions are ones which takes functions as arguments\n",
        "# Lambda functions are used along with the built in functions like filter(), map()"
      ],
      "execution_count": 0,
      "outputs": []
    },
    {
      "metadata": {
        "id": "rWKin-Dutcyt",
        "colab_type": "code",
        "colab": {
          "base_uri": "https://localhost:8080/",
          "height": 34
        },
        "outputId": "45a576b4-d0cf-4185-92d0-2fc04e471104"
      },
      "cell_type": "code",
      "source": [
        "my_list = [1, 5, 4, 6, 8, 11, 3, 12]\n",
        "\n",
        "new_list = list(filter(lambda x: (x%2 == 0) , my_list))\n",
        "\n",
        "new_list"
      ],
      "execution_count": 61,
      "outputs": [
        {
          "output_type": "execute_result",
          "data": {
            "text/plain": [
              "[4, 6, 8, 12]"
            ]
          },
          "metadata": {
            "tags": []
          },
          "execution_count": 61
        }
      ]
    },
    {
      "metadata": {
        "id": "4wx_87i0tjGn",
        "colab_type": "code",
        "colab": {
          "base_uri": "https://localhost:8080/",
          "height": 34
        },
        "outputId": "75d69dfa-2ad6-4b2f-fefb-ad2895dad4c0"
      },
      "cell_type": "code",
      "source": [
        "my_list = [1, 5, 4, 6, 8, 11, 3, 12]\n",
        "\n",
        "new_list = list(map(lambda x: x * 2 , my_list))\n",
        "\n",
        "new_list"
      ],
      "execution_count": 62,
      "outputs": [
        {
          "output_type": "execute_result",
          "data": {
            "text/plain": [
              "[2, 10, 8, 12, 16, 22, 6, 24]"
            ]
          },
          "metadata": {
            "tags": []
          },
          "execution_count": 62
        }
      ]
    },
    {
      "metadata": {
        "id": "qeFvjvVrt2YS",
        "colab_type": "code",
        "colab": {
          "base_uri": "https://localhost:8080/",
          "height": 442
        },
        "outputId": "f5ccd928-c734-4b93-d84f-e7b87967123f"
      },
      "cell_type": "code",
      "source": [
        "help(filter)"
      ],
      "execution_count": 63,
      "outputs": [
        {
          "output_type": "stream",
          "text": [
            "Help on class filter in module builtins:\n",
            "\n",
            "class filter(object)\n",
            " |  filter(function or None, iterable) --> filter object\n",
            " |  \n",
            " |  Return an iterator yielding those items of iterable for which function(item)\n",
            " |  is true. If function is None, return the items that are true.\n",
            " |  \n",
            " |  Methods defined here:\n",
            " |  \n",
            " |  __getattribute__(self, name, /)\n",
            " |      Return getattr(self, name).\n",
            " |  \n",
            " |  __iter__(self, /)\n",
            " |      Implement iter(self).\n",
            " |  \n",
            " |  __new__(*args, **kwargs) from builtins.type\n",
            " |      Create and return a new object.  See help(type) for accurate signature.\n",
            " |  \n",
            " |  __next__(self, /)\n",
            " |      Implement next(self).\n",
            " |  \n",
            " |  __reduce__(...)\n",
            " |      Return state information for pickling.\n",
            "\n"
          ],
          "name": "stdout"
        }
      ]
    },
    {
      "metadata": {
        "id": "GM7TN8bht6wK",
        "colab_type": "code",
        "colab": {
          "base_uri": "https://localhost:8080/",
          "height": 442
        },
        "outputId": "3e77f039-b80d-4be3-fffe-ac8c73ea004f"
      },
      "cell_type": "code",
      "source": [
        "help(map)"
      ],
      "execution_count": 65,
      "outputs": [
        {
          "output_type": "stream",
          "text": [
            "Help on class map in module builtins:\n",
            "\n",
            "class map(object)\n",
            " |  map(func, *iterables) --> map object\n",
            " |  \n",
            " |  Make an iterator that computes the function using arguments from\n",
            " |  each of the iterables.  Stops when the shortest iterable is exhausted.\n",
            " |  \n",
            " |  Methods defined here:\n",
            " |  \n",
            " |  __getattribute__(self, name, /)\n",
            " |      Return getattr(self, name).\n",
            " |  \n",
            " |  __iter__(self, /)\n",
            " |      Implement iter(self).\n",
            " |  \n",
            " |  __new__(*args, **kwargs) from builtins.type\n",
            " |      Create and return a new object.  See help(type) for accurate signature.\n",
            " |  \n",
            " |  __next__(self, /)\n",
            " |      Implement next(self).\n",
            " |  \n",
            " |  __reduce__(...)\n",
            " |      Return state information for pickling.\n",
            "\n"
          ],
          "name": "stdout"
        }
      ]
    },
    {
      "metadata": {
        "id": "20aZf3BWuIbb",
        "colab_type": "code",
        "colab": {}
      },
      "cell_type": "code",
      "source": [
        ""
      ],
      "execution_count": 0,
      "outputs": []
    }
  ]
}