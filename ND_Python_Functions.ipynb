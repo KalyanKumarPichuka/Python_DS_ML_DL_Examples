{
  "nbformat": 4,
  "nbformat_minor": 0,
  "metadata": {
    "colab": {
      "name": "ND_Python_Functions.ipynb",
      "version": "0.3.2",
      "provenance": [],
      "collapsed_sections": [],
      "include_colab_link": true
    },
    "kernelspec": {
      "name": "python3",
      "display_name": "Python 3"
    }
  },
  "cells": [
    {
      "cell_type": "markdown",
      "metadata": {
        "id": "view-in-github",
        "colab_type": "text"
      },
      "source": [
        "[View in Colaboratory](https://colab.research.google.com/github/kalyan369/Python_DS_ML_DL_Examples/blob/master/ND_Python_Functions.ipynb)"
      ]
    },
    {
      "metadata": {
        "id": "mDytLn6WZn2W",
        "colab_type": "code",
        "colab": {}
      },
      "cell_type": "code",
      "source": [
        "#********************************************************************************************************************\n",
        "# FUNCTIONS IN PYTHON\n",
        "# function is a group of statements which performs specific task\n",
        "# function brings modularity to our program\n",
        "# It reduces redudant code and makes code reusable\n",
        "#********************************************************************************************************************"
      ],
      "execution_count": 0,
      "outputs": []
    },
    {
      "metadata": {
        "id": "yjIzwJzxaNL-",
        "colab_type": "code",
        "colab": {}
      },
      "cell_type": "code",
      "source": [
        "def greet(name):\n",
        "  \"\"\" This function greets to the person name sent as argument\"\"\"\n",
        "  print('Hello '+name+'. Good Morning!')"
      ],
      "execution_count": 0,
      "outputs": []
    },
    {
      "metadata": {
        "id": "VrxKpUyqdDhb",
        "colab_type": "code",
        "colab": {
          "base_uri": "https://localhost:8080/",
          "height": 34
        },
        "outputId": "2fe36beb-2182-4678-fa1d-a8b608bef24f"
      },
      "cell_type": "code",
      "source": [
        "greet('Ramanujan')"
      ],
      "execution_count": 30,
      "outputs": [
        {
          "output_type": "stream",
          "text": [
            "Hello Ramanujan. Good Morning!\n"
          ],
          "name": "stdout"
        }
      ]
    },
    {
      "metadata": {
        "id": "zOcX3K2QdGGB",
        "colab_type": "code",
        "colab": {}
      },
      "cell_type": "code",
      "source": [
        "# Example of return in function\n",
        "def absolute_value(num):\n",
        "  \"\"\" This function returns the absolute value\"\"\"\n",
        "  if num>=0:\n",
        "    return num\n",
        "  else:\n",
        "    return -num\n",
        "  "
      ],
      "execution_count": 0,
      "outputs": []
    },
    {
      "metadata": {
        "id": "3F2TBUoXmZpy",
        "colab_type": "code",
        "colab": {
          "base_uri": "https://localhost:8080/",
          "height": 34
        },
        "outputId": "af5114a9-d3d4-4dd0-9063-3f51fcf3642f"
      },
      "cell_type": "code",
      "source": [
        "absolute_value(2)"
      ],
      "execution_count": 32,
      "outputs": [
        {
          "output_type": "execute_result",
          "data": {
            "text/plain": [
              "2"
            ]
          },
          "metadata": {
            "tags": []
          },
          "execution_count": 32
        }
      ]
    },
    {
      "metadata": {
        "id": "9XoUKGsVmc6O",
        "colab_type": "code",
        "colab": {
          "base_uri": "https://localhost:8080/",
          "height": 34
        },
        "outputId": "204d7aa3-fdf5-4161-81ed-30eb9d4db74a"
      },
      "cell_type": "code",
      "source": [
        "absolute_value(-9)"
      ],
      "execution_count": 33,
      "outputs": [
        {
          "output_type": "execute_result",
          "data": {
            "text/plain": [
              "9"
            ]
          },
          "metadata": {
            "tags": []
          },
          "execution_count": 33
        }
      ]
    },
    {
      "metadata": {
        "id": "IEg4CxF0mnII",
        "colab_type": "code",
        "colab": {
          "base_uri": "https://localhost:8080/",
          "height": 51
        },
        "outputId": "e80af102-a79b-4785-8b73-18975075b7ae"
      },
      "cell_type": "code",
      "source": [
        "def my_func():\n",
        "  x=10\n",
        "  print('Value inside function',x)\n",
        "\n",
        "x =20\n",
        "my_func()\n",
        "print('Value outside function',x)"
      ],
      "execution_count": 34,
      "outputs": [
        {
          "output_type": "stream",
          "text": [
            "Value inside function 10\n",
            "Value outside function 20\n"
          ],
          "name": "stdout"
        }
      ]
    },
    {
      "metadata": {
        "id": "OvDftAJtnBgU",
        "colab_type": "code",
        "colab": {}
      },
      "cell_type": "code",
      "source": [
        "#********************************************************************************************************************\n",
        "# PYTHON FUNCTION ARGUMENTS\n",
        "#********************************************************************************************************************"
      ],
      "execution_count": 0,
      "outputs": []
    },
    {
      "metadata": {
        "id": "UHwXAAG5ptuo",
        "colab_type": "code",
        "colab": {}
      },
      "cell_type": "code",
      "source": [
        "# In user-defined function, while calling function all the arguments has be passes. Otherwise it results in error"
      ],
      "execution_count": 0,
      "outputs": []
    },
    {
      "metadata": {
        "id": "AQUgYGQwqay1",
        "colab_type": "code",
        "colab": {}
      },
      "cell_type": "code",
      "source": [
        "def greet(name,msg):\n",
        "  \"\"\"This function greets the person with provided message\"\"\"\n",
        "  print('Hello',name,msg)"
      ],
      "execution_count": 0,
      "outputs": []
    },
    {
      "metadata": {
        "id": "nsHfAMlxqu-n",
        "colab_type": "code",
        "colab": {
          "base_uri": "https://localhost:8080/",
          "height": 34
        },
        "outputId": "3b4b487b-48ed-423d-965d-cdfb4e7f70ca"
      },
      "cell_type": "code",
      "source": [
        "greet('Stephen Hawking','Good Morning!')"
      ],
      "execution_count": 38,
      "outputs": [
        {
          "output_type": "stream",
          "text": [
            "Hello Stephen Hawking Good Morning!\n"
          ],
          "name": "stdout"
        }
      ]
    },
    {
      "metadata": {
        "id": "KqWMcyFWq0yt",
        "colab_type": "code",
        "colab": {}
      },
      "cell_type": "code",
      "source": [
        "#greet('Stephen Hawking') ==> THIS THROWS AN ERROR AS ONLY ONE ARGUMENT WAS PASSED"
      ],
      "execution_count": 0,
      "outputs": []
    },
    {
      "metadata": {
        "id": "LYdgbxO_q4fu",
        "colab_type": "code",
        "colab": {}
      },
      "cell_type": "code",
      "source": [
        "#********************************************************************************************************************\n",
        "# VARIABLE FUNCTION ARGUMENTS\n",
        "# In python we can define function with variable number of arguments\n",
        "#********************************************************************************************************************"
      ],
      "execution_count": 0,
      "outputs": []
    },
    {
      "metadata": {
        "id": "uN2RJ_X_rkDc",
        "colab_type": "code",
        "colab": {}
      },
      "cell_type": "code",
      "source": [
        "def greet(name,msg='Good Morning!'):\n",
        "  \n",
        "  \"\"\" This function greets the person with the message provided\n",
        "      If the message is not provided in the arguments, it defaults to Good Morning!\n",
        "      name - mandatory\n",
        "      msg - not mandatory\n",
        "  \"\"\"\n",
        "  \n",
        "  print('Hello',name,msg)"
      ],
      "execution_count": 0,
      "outputs": []
    },
    {
      "metadata": {
        "id": "wrB_7qWosSlm",
        "colab_type": "code",
        "colab": {
          "base_uri": "https://localhost:8080/",
          "height": 34
        },
        "outputId": "fb199773-789f-4b8c-9ad4-41995d49c679"
      },
      "cell_type": "code",
      "source": [
        "greet(\"Albert\",\"How do you do?\")"
      ],
      "execution_count": 42,
      "outputs": [
        {
          "output_type": "stream",
          "text": [
            "Hello Albert How do you do?\n"
          ],
          "name": "stdout"
        }
      ]
    },
    {
      "metadata": {
        "id": "vJjyi4HMsa7i",
        "colab_type": "code",
        "colab": {
          "base_uri": "https://localhost:8080/",
          "height": 34
        },
        "outputId": "8b2dada6-b085-4466-d122-af1524d96afa"
      },
      "cell_type": "code",
      "source": [
        "greet('Albert')"
      ],
      "execution_count": 43,
      "outputs": [
        {
          "output_type": "stream",
          "text": [
            "Hello Albert Good Morning!\n"
          ],
          "name": "stdout"
        }
      ]
    },
    {
      "metadata": {
        "id": "pDcfih92sdb2",
        "colab_type": "code",
        "colab": {}
      },
      "cell_type": "code",
      "source": [
        "# ALWAYS DEFAULT AGRUMENTS SHOULD FOLLOW NON-DEFAULT AGRUMENTS IN PYTHON FUNCTIONS "
      ],
      "execution_count": 0,
      "outputs": []
    },
    {
      "metadata": {
        "id": "1PhUfVbouMcF",
        "colab_type": "code",
        "colab": {}
      },
      "cell_type": "code",
      "source": [
        "#********************************************************************************************************************\n",
        "# PYTHON ARBITARY ARGUMENTS\n",
        "# sometimes we dont know in advance the number of arguments that will be passed to a fucntion\n",
        "# python allows us to handle this kind of situation through function calls with arbitary arguments\n",
        "#********************************************************************************************************************"
      ],
      "execution_count": 0,
      "outputs": []
    },
    {
      "metadata": {
        "id": "MKY261F-VNHg",
        "colab_type": "code",
        "colab": {}
      },
      "cell_type": "code",
      "source": [
        "def greet(*names):\n",
        "  \n",
        "  \"\"\"This greets all the persons in the names tuple\"\"\"\n",
        "  \n",
        "  for name in names:\n",
        "    print('Hello',name)"
      ],
      "execution_count": 0,
      "outputs": []
    },
    {
      "metadata": {
        "id": "th03ElWLVdrz",
        "colab_type": "code",
        "colab": {
          "base_uri": "https://localhost:8080/",
          "height": 85
        },
        "outputId": "f6beeebe-7dcc-4296-bef1-f88aac8ab009"
      },
      "cell_type": "code",
      "source": [
        "greet('Kalyan','Ravi','Kiran','Kumar')"
      ],
      "execution_count": 47,
      "outputs": [
        {
          "output_type": "stream",
          "text": [
            "Hello Kalyan\n",
            "Hello Ravi\n",
            "Hello Kiran\n",
            "Hello Kumar\n"
          ],
          "name": "stdout"
        }
      ]
    },
    {
      "metadata": {
        "id": "KLVpZi6VVq2Q",
        "colab_type": "code",
        "colab": {}
      },
      "cell_type": "code",
      "source": [
        ""
      ],
      "execution_count": 0,
      "outputs": []
    }
  ]
}