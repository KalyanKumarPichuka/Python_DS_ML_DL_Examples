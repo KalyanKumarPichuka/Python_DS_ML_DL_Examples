{
  "nbformat": 4,
  "nbformat_minor": 0,
  "metadata": {
    "colab": {
      "name": "ND_Python_Functions.ipynb",
      "version": "0.3.2",
      "provenance": [],
      "collapsed_sections": [],
      "include_colab_link": true
    },
    "kernelspec": {
      "name": "python3",
      "display_name": "Python 3"
    }
  },
  "cells": [
    {
      "cell_type": "markdown",
      "metadata": {
        "id": "view-in-github",
        "colab_type": "text"
      },
      "source": [
        "[View in Colaboratory](https://colab.research.google.com/github/kalyan369/Python_DS_ML_DL_Examples/blob/master/ND_Python_Functions.ipynb)"
      ]
    },
    {
      "metadata": {
        "id": "mDytLn6WZn2W",
        "colab_type": "code",
        "colab": {}
      },
      "cell_type": "code",
      "source": [
        "#********************************************************************************************************************\n",
        "# FUNCTIONS IN PYTHON\n",
        "# function is a group of statements which performs specific task\n",
        "# function brings modularity to our program\n",
        "# It reduces redudant code and makes code reusable\n",
        "#********************************************************************************************************************"
      ],
      "execution_count": 0,
      "outputs": []
    },
    {
      "metadata": {
        "id": "yjIzwJzxaNL-",
        "colab_type": "code",
        "colab": {}
      },
      "cell_type": "code",
      "source": [
        "def greet(name):\n",
        "  \"\"\" This function greets to the person name sent as argument\"\"\"\n",
        "  print('Hello '+name+'. Good Morning!')"
      ],
      "execution_count": 0,
      "outputs": []
    },
    {
      "metadata": {
        "id": "VrxKpUyqdDhb",
        "colab_type": "code",
        "colab": {
          "base_uri": "https://localhost:8080/",
          "height": 34
        },
        "outputId": "86c1a31d-823e-4ad7-c822-cf33fb2020cd"
      },
      "cell_type": "code",
      "source": [
        "greet('Ramanujan')"
      ],
      "execution_count": 76,
      "outputs": [
        {
          "output_type": "stream",
          "text": [
            "Hello Ramanujan. Good Morning!\n"
          ],
          "name": "stdout"
        }
      ]
    },
    {
      "metadata": {
        "id": "zOcX3K2QdGGB",
        "colab_type": "code",
        "colab": {}
      },
      "cell_type": "code",
      "source": [
        "# Example of return in function\n",
        "def absolute_value(num):\n",
        "  \"\"\" This function returns the absolute value\"\"\"\n",
        "  if num>=0:\n",
        "    return num\n",
        "  else:\n",
        "    return -num\n",
        "  "
      ],
      "execution_count": 0,
      "outputs": []
    },
    {
      "metadata": {
        "id": "3F2TBUoXmZpy",
        "colab_type": "code",
        "colab": {
          "base_uri": "https://localhost:8080/",
          "height": 34
        },
        "outputId": "76b329db-3b2d-4783-9f7f-2a9d6ef78c45"
      },
      "cell_type": "code",
      "source": [
        "absolute_value(2)"
      ],
      "execution_count": 78,
      "outputs": [
        {
          "output_type": "execute_result",
          "data": {
            "text/plain": [
              "2"
            ]
          },
          "metadata": {
            "tags": []
          },
          "execution_count": 78
        }
      ]
    },
    {
      "metadata": {
        "id": "9XoUKGsVmc6O",
        "colab_type": "code",
        "colab": {
          "base_uri": "https://localhost:8080/",
          "height": 34
        },
        "outputId": "42af0a10-a419-476f-87b1-a78ad0efcd61"
      },
      "cell_type": "code",
      "source": [
        "absolute_value(-9)"
      ],
      "execution_count": 79,
      "outputs": [
        {
          "output_type": "execute_result",
          "data": {
            "text/plain": [
              "9"
            ]
          },
          "metadata": {
            "tags": []
          },
          "execution_count": 79
        }
      ]
    },
    {
      "metadata": {
        "id": "IEg4CxF0mnII",
        "colab_type": "code",
        "colab": {
          "base_uri": "https://localhost:8080/",
          "height": 51
        },
        "outputId": "dcee60e2-57c3-4882-d4a9-1c8de3075060"
      },
      "cell_type": "code",
      "source": [
        "def my_func():\n",
        "  x=10\n",
        "  print('Value inside function',x)\n",
        "\n",
        "x =20\n",
        "my_func()\n",
        "print('Value outside function',x)"
      ],
      "execution_count": 80,
      "outputs": [
        {
          "output_type": "stream",
          "text": [
            "Value inside function 10\n",
            "Value outside function 20\n"
          ],
          "name": "stdout"
        }
      ]
    },
    {
      "metadata": {
        "id": "OvDftAJtnBgU",
        "colab_type": "code",
        "colab": {}
      },
      "cell_type": "code",
      "source": [
        "#********************************************************************************************************************\n",
        "# PYTHON FUNCTION ARGUMENTS\n",
        "#********************************************************************************************************************"
      ],
      "execution_count": 0,
      "outputs": []
    },
    {
      "metadata": {
        "id": "UHwXAAG5ptuo",
        "colab_type": "code",
        "colab": {}
      },
      "cell_type": "code",
      "source": [
        "# In user-defined function, while calling function all the arguments has be passes. Otherwise it results in error"
      ],
      "execution_count": 0,
      "outputs": []
    },
    {
      "metadata": {
        "id": "AQUgYGQwqay1",
        "colab_type": "code",
        "colab": {}
      },
      "cell_type": "code",
      "source": [
        "def greet(name,msg):\n",
        "  \"\"\"This function greets the person with provided message\"\"\"\n",
        "  print('Hello',name,msg)"
      ],
      "execution_count": 0,
      "outputs": []
    },
    {
      "metadata": {
        "id": "nsHfAMlxqu-n",
        "colab_type": "code",
        "colab": {
          "base_uri": "https://localhost:8080/",
          "height": 34
        },
        "outputId": "3a7fe960-0b1e-4ee8-adaa-7bb44fe47cd6"
      },
      "cell_type": "code",
      "source": [
        "greet('Stephen Hawking','Good Morning!')"
      ],
      "execution_count": 84,
      "outputs": [
        {
          "output_type": "stream",
          "text": [
            "Hello Stephen Hawking Good Morning!\n"
          ],
          "name": "stdout"
        }
      ]
    },
    {
      "metadata": {
        "id": "KqWMcyFWq0yt",
        "colab_type": "code",
        "colab": {}
      },
      "cell_type": "code",
      "source": [
        "#greet('Stephen Hawking') ==> THIS THROWS AN ERROR AS ONLY ONE ARGUMENT WAS PASSED"
      ],
      "execution_count": 0,
      "outputs": []
    },
    {
      "metadata": {
        "id": "LYdgbxO_q4fu",
        "colab_type": "code",
        "colab": {}
      },
      "cell_type": "code",
      "source": [
        "#********************************************************************************************************************\n",
        "# VARIABLE FUNCTION ARGUMENTS\n",
        "# In python we can define function with variable number of arguments\n",
        "#********************************************************************************************************************"
      ],
      "execution_count": 0,
      "outputs": []
    },
    {
      "metadata": {
        "id": "uN2RJ_X_rkDc",
        "colab_type": "code",
        "colab": {}
      },
      "cell_type": "code",
      "source": [
        "def greet(name,msg='Good Morning!'):\n",
        "  \n",
        "  \"\"\" This function greets the person with the message provided\n",
        "      If the message is not provided in the arguments, it defaults to Good Morning!\n",
        "      name - mandatory\n",
        "      msg - not mandatory\n",
        "  \"\"\"\n",
        "  \n",
        "  print('Hello',name,msg)"
      ],
      "execution_count": 0,
      "outputs": []
    },
    {
      "metadata": {
        "id": "wrB_7qWosSlm",
        "colab_type": "code",
        "colab": {
          "base_uri": "https://localhost:8080/",
          "height": 34
        },
        "outputId": "d338b427-55cb-4d22-a365-3634e291259d"
      },
      "cell_type": "code",
      "source": [
        "greet(\"Albert\",\"How do you do?\")"
      ],
      "execution_count": 88,
      "outputs": [
        {
          "output_type": "stream",
          "text": [
            "Hello Albert How do you do?\n"
          ],
          "name": "stdout"
        }
      ]
    },
    {
      "metadata": {
        "id": "vJjyi4HMsa7i",
        "colab_type": "code",
        "colab": {
          "base_uri": "https://localhost:8080/",
          "height": 34
        },
        "outputId": "b11dc029-1afc-4fdf-9a22-15c167d7e7ce"
      },
      "cell_type": "code",
      "source": [
        "greet('Albert')"
      ],
      "execution_count": 89,
      "outputs": [
        {
          "output_type": "stream",
          "text": [
            "Hello Albert Good Morning!\n"
          ],
          "name": "stdout"
        }
      ]
    },
    {
      "metadata": {
        "id": "pDcfih92sdb2",
        "colab_type": "code",
        "colab": {}
      },
      "cell_type": "code",
      "source": [
        "# ALWAYS DEFAULT AGRUMENTS SHOULD FOLLOW NON-DEFAULT AGRUMENTS IN PYTHON FUNCTIONS "
      ],
      "execution_count": 0,
      "outputs": []
    },
    {
      "metadata": {
        "id": "1PhUfVbouMcF",
        "colab_type": "code",
        "colab": {}
      },
      "cell_type": "code",
      "source": [
        "#********************************************************************************************************************\n",
        "# PYTHON ARBITARY ARGUMENTS\n",
        "# sometimes we dont know in advance the number of arguments that will be passed to a fucntion\n",
        "# python allows us to handle this kind of situation through function calls with arbitary arguments\n",
        "#********************************************************************************************************************"
      ],
      "execution_count": 0,
      "outputs": []
    },
    {
      "metadata": {
        "id": "MKY261F-VNHg",
        "colab_type": "code",
        "colab": {}
      },
      "cell_type": "code",
      "source": [
        "def greet(*names):\n",
        "  \n",
        "  \"\"\"This greets all the persons in the names tuple\"\"\"\n",
        "  \n",
        "  for name in names:\n",
        "    print('Hello',name)"
      ],
      "execution_count": 0,
      "outputs": []
    },
    {
      "metadata": {
        "id": "th03ElWLVdrz",
        "colab_type": "code",
        "colab": {
          "base_uri": "https://localhost:8080/",
          "height": 85
        },
        "outputId": "43bea512-bc6e-4ef2-c87a-ac61573515d5"
      },
      "cell_type": "code",
      "source": [
        "greet('Kalyan','Ravi','Kiran','Kumar')"
      ],
      "execution_count": 93,
      "outputs": [
        {
          "output_type": "stream",
          "text": [
            "Hello Kalyan\n",
            "Hello Ravi\n",
            "Hello Kiran\n",
            "Hello Kumar\n"
          ],
          "name": "stdout"
        }
      ]
    },
    {
      "metadata": {
        "id": "KLVpZi6VVq2Q",
        "colab_type": "code",
        "colab": {}
      },
      "cell_type": "code",
      "source": [
        "# RECURSION IN PYTHON\n",
        "# Recursion is the process of defining something in terms of itself"
      ],
      "execution_count": 0,
      "outputs": []
    },
    {
      "metadata": {
        "id": "C8ADj8LpXng6",
        "colab_type": "code",
        "colab": {}
      },
      "cell_type": "code",
      "source": [
        "# PYTHON RECURSIVE FUNCTION\n",
        "# is nothing but calling a function by itself"
      ],
      "execution_count": 0,
      "outputs": []
    },
    {
      "metadata": {
        "id": "f2OxVdGAYO89",
        "colab_type": "code",
        "colab": {}
      },
      "cell_type": "code",
      "source": [
        "#RECURSIVE FUNCTION\n",
        "\n",
        "def calc_factorial(x):\n",
        "  \n",
        "  \"\"\"This is a recursive function to find the factorial of an integer\"\"\"\n",
        "  \n",
        "  if x==1:\n",
        "    return 1\n",
        "  else:\n",
        "    return (x * calc_factorial(x-1))"
      ],
      "execution_count": 0,
      "outputs": []
    },
    {
      "metadata": {
        "id": "P_V39nofYzoJ",
        "colab_type": "code",
        "colab": {
          "base_uri": "https://localhost:8080/",
          "height": 34
        },
        "outputId": "79318425-999d-4411-897f-c174888170cc"
      },
      "cell_type": "code",
      "source": [
        "num = 6\n",
        "print('The factorial of',num,'is',calc_factorial(num))"
      ],
      "execution_count": 97,
      "outputs": [
        {
          "output_type": "stream",
          "text": [
            "The factorial of 6 is 720\n"
          ],
          "name": "stdout"
        }
      ]
    },
    {
      "metadata": {
        "id": "YEZ4amOmZEFw",
        "colab_type": "code",
        "colab": {}
      },
      "cell_type": "code",
      "source": [
        "#********************************************************************************************************************\n",
        "# PYTHON ANONYMOUS/LANBDA FUNCTION\n",
        "# Anonymous function is a name without name\n",
        "# Lambda functions can be used whenever function objects are required\n",
        "#********************************************************************************************************************"
      ],
      "execution_count": 0,
      "outputs": []
    },
    {
      "metadata": {
        "id": "x5mzjK-Pb2oC",
        "colab_type": "code",
        "colab": {}
      },
      "cell_type": "code",
      "source": [
        "double = lambda x:x*2"
      ],
      "execution_count": 0,
      "outputs": []
    },
    {
      "metadata": {
        "id": "3KZB84tTr3Wq",
        "colab_type": "code",
        "colab": {
          "base_uri": "https://localhost:8080/",
          "height": 34
        },
        "outputId": "8a0fbc88-f06b-4f3c-b90d-1ae93a638bef"
      },
      "cell_type": "code",
      "source": [
        "double(5)"
      ],
      "execution_count": 100,
      "outputs": [
        {
          "output_type": "execute_result",
          "data": {
            "text/plain": [
              "10"
            ]
          },
          "metadata": {
            "tags": []
          },
          "execution_count": 100
        }
      ]
    },
    {
      "metadata": {
        "id": "EObxO-7Nr5mE",
        "colab_type": "code",
        "colab": {}
      },
      "cell_type": "code",
      "source": [
        "# Anonymous functions are used as aruments of higher order functions\n",
        "# Higher order functions are ones which takes functions as arguments\n",
        "# Lambda functions are used along with the built in functions like filter(), map()"
      ],
      "execution_count": 0,
      "outputs": []
    },
    {
      "metadata": {
        "id": "rWKin-Dutcyt",
        "colab_type": "code",
        "colab": {
          "base_uri": "https://localhost:8080/",
          "height": 34
        },
        "outputId": "d6978c8c-0c7e-4e7f-83d6-501319acccf9"
      },
      "cell_type": "code",
      "source": [
        "my_list = [1, 5, 4, 6, 8, 11, 3, 12]\n",
        "\n",
        "new_list = list(filter(lambda x: (x%2 == 0) , my_list))\n",
        "\n",
        "new_list"
      ],
      "execution_count": 102,
      "outputs": [
        {
          "output_type": "execute_result",
          "data": {
            "text/plain": [
              "[4, 6, 8, 12]"
            ]
          },
          "metadata": {
            "tags": []
          },
          "execution_count": 102
        }
      ]
    },
    {
      "metadata": {
        "id": "4wx_87i0tjGn",
        "colab_type": "code",
        "colab": {
          "base_uri": "https://localhost:8080/",
          "height": 34
        },
        "outputId": "51b824c2-d107-41b2-ac86-884e95f0a74c"
      },
      "cell_type": "code",
      "source": [
        "my_list = [1, 5, 4, 6, 8, 11, 3, 12]\n",
        "\n",
        "new_list = list(map(lambda x: x * 2 , my_list))\n",
        "\n",
        "new_list"
      ],
      "execution_count": 103,
      "outputs": [
        {
          "output_type": "execute_result",
          "data": {
            "text/plain": [
              "[2, 10, 8, 12, 16, 22, 6, 24]"
            ]
          },
          "metadata": {
            "tags": []
          },
          "execution_count": 103
        }
      ]
    },
    {
      "metadata": {
        "id": "qeFvjvVrt2YS",
        "colab_type": "code",
        "colab": {
          "base_uri": "https://localhost:8080/",
          "height": 442
        },
        "outputId": "b2e041d8-992f-4887-f03d-3bf0f6ac4187"
      },
      "cell_type": "code",
      "source": [
        "help(filter)"
      ],
      "execution_count": 104,
      "outputs": [
        {
          "output_type": "stream",
          "text": [
            "Help on class filter in module builtins:\n",
            "\n",
            "class filter(object)\n",
            " |  filter(function or None, iterable) --> filter object\n",
            " |  \n",
            " |  Return an iterator yielding those items of iterable for which function(item)\n",
            " |  is true. If function is None, return the items that are true.\n",
            " |  \n",
            " |  Methods defined here:\n",
            " |  \n",
            " |  __getattribute__(self, name, /)\n",
            " |      Return getattr(self, name).\n",
            " |  \n",
            " |  __iter__(self, /)\n",
            " |      Implement iter(self).\n",
            " |  \n",
            " |  __new__(*args, **kwargs) from builtins.type\n",
            " |      Create and return a new object.  See help(type) for accurate signature.\n",
            " |  \n",
            " |  __next__(self, /)\n",
            " |      Implement next(self).\n",
            " |  \n",
            " |  __reduce__(...)\n",
            " |      Return state information for pickling.\n",
            "\n"
          ],
          "name": "stdout"
        }
      ]
    },
    {
      "metadata": {
        "id": "GM7TN8bht6wK",
        "colab_type": "code",
        "colab": {
          "base_uri": "https://localhost:8080/",
          "height": 442
        },
        "outputId": "8db4a9a1-ba36-4df0-a816-22968d079b44"
      },
      "cell_type": "code",
      "source": [
        "help(map)"
      ],
      "execution_count": 105,
      "outputs": [
        {
          "output_type": "stream",
          "text": [
            "Help on class map in module builtins:\n",
            "\n",
            "class map(object)\n",
            " |  map(func, *iterables) --> map object\n",
            " |  \n",
            " |  Make an iterator that computes the function using arguments from\n",
            " |  each of the iterables.  Stops when the shortest iterable is exhausted.\n",
            " |  \n",
            " |  Methods defined here:\n",
            " |  \n",
            " |  __getattribute__(self, name, /)\n",
            " |      Return getattr(self, name).\n",
            " |  \n",
            " |  __iter__(self, /)\n",
            " |      Implement iter(self).\n",
            " |  \n",
            " |  __new__(*args, **kwargs) from builtins.type\n",
            " |      Create and return a new object.  See help(type) for accurate signature.\n",
            " |  \n",
            " |  __next__(self, /)\n",
            " |      Implement next(self).\n",
            " |  \n",
            " |  __reduce__(...)\n",
            " |      Return state information for pickling.\n",
            "\n"
          ],
          "name": "stdout"
        }
      ]
    },
    {
      "metadata": {
        "id": "20aZf3BWuIbb",
        "colab_type": "code",
        "colab": {}
      },
      "cell_type": "code",
      "source": [
        "#********************************************************************************************************************\n",
        "# PYTHON GLOBAL,LOCAL AND NON-LOCAL VARIABLES\n",
        "#********************************************************************************************************************"
      ],
      "execution_count": 0,
      "outputs": []
    },
    {
      "metadata": {
        "id": "TpxVCak--4eS",
        "colab_type": "code",
        "colab": {
          "base_uri": "https://localhost:8080/",
          "height": 51
        },
        "outputId": "c3947b2a-e20e-4182-c2ea-5feaeb3b5694"
      },
      "cell_type": "code",
      "source": [
        "x='global'\n",
        "\n",
        "def foo():\n",
        "  print('x inside:',x)\n",
        "  \n",
        "foo()\n",
        "print('x outside:',x)"
      ],
      "execution_count": 107,
      "outputs": [
        {
          "output_type": "stream",
          "text": [
            "x inside: global\n",
            "x outside: global\n"
          ],
          "name": "stdout"
        }
      ]
    },
    {
      "metadata": {
        "id": "Ymq7KZRG_R25",
        "colab_type": "code",
        "colab": {
          "base_uri": "https://localhost:8080/",
          "height": 68
        },
        "outputId": "22895ceb-22c5-4445-8119-394ca47a818f"
      },
      "cell_type": "code",
      "source": [
        "# HOW GLOBAL AND LOCAL VARIABLES SHOULD BE USED TOGETHER\n",
        "\n",
        "x='global'\n",
        "\n",
        "def foo():\n",
        "  global x\n",
        "  x *= 2\n",
        "  y = 'local'\n",
        "  print('x inside:',x)\n",
        "  print('y inside:',y)\n",
        "  \n",
        "foo()\n",
        "print('x outside:',x)\n",
        "#print('y outside:',y) ==> This throws an error as y is local variable"
      ],
      "execution_count": 108,
      "outputs": [
        {
          "output_type": "stream",
          "text": [
            "x inside: globalglobal\n",
            "y inside: local\n",
            "x outside: globalglobal\n"
          ],
          "name": "stdout"
        }
      ]
    },
    {
      "metadata": {
        "id": "q4YJZstW_ryN",
        "colab_type": "code",
        "colab": {
          "base_uri": "https://localhost:8080/",
          "height": 51
        },
        "outputId": "9d007e58-f7d0-4a7d-e767-dec00a839e57"
      },
      "cell_type": "code",
      "source": [
        "# Non-local variables\n",
        "# nonlocla variables are ones declared in nested functions\n",
        "# nonlocal keyword is used to create non-local variables\n",
        "\n",
        "def outer():\n",
        "    x = \"local\"\n",
        "    \n",
        "    def inner():\n",
        "        nonlocal x\n",
        "        x = \"nonlocal\"\n",
        "        print(\"inner:\", x)\n",
        "    \n",
        "    inner()\n",
        "    print(\"outer:\", x)\n",
        "\n",
        "outer()"
      ],
      "execution_count": 109,
      "outputs": [
        {
          "output_type": "stream",
          "text": [
            "inner: nonlocal\n",
            "outer: nonlocal\n"
          ],
          "name": "stdout"
        }
      ]
    },
    {
      "metadata": {
        "id": "YTmJSGZxCG-t",
        "colab_type": "code",
        "colab": {}
      },
      "cell_type": "code",
      "source": [
        "#********************************************************************************************************************\n",
        "# MODULES IN PYTHON\n",
        "# Module refers to a python file containing statements and definitions\n",
        "#********************************************************************************************************************"
      ],
      "execution_count": 0,
      "outputs": []
    },
    {
      "metadata": {
        "id": "l7oRQbZNVGov",
        "colab_type": "code",
        "colab": {}
      },
      "cell_type": "code",
      "source": [
        "from math import pi,e"
      ],
      "execution_count": 0,
      "outputs": []
    },
    {
      "metadata": {
        "id": "0_mTExuVVInW",
        "colab_type": "code",
        "colab": {
          "base_uri": "https://localhost:8080/",
          "height": 34
        },
        "outputId": "fcfc0590-0d3e-48aa-c1f9-319b8d9d0a0e"
      },
      "cell_type": "code",
      "source": [
        "pi"
      ],
      "execution_count": 113,
      "outputs": [
        {
          "output_type": "execute_result",
          "data": {
            "text/plain": [
              "3.141592653589793"
            ]
          },
          "metadata": {
            "tags": []
          },
          "execution_count": 113
        }
      ]
    },
    {
      "metadata": {
        "id": "rAH7L9xTVJcR",
        "colab_type": "code",
        "colab": {
          "base_uri": "https://localhost:8080/",
          "height": 34
        },
        "outputId": "1b8bb479-87ec-4aa1-8aa4-32beb9c01a58"
      },
      "cell_type": "code",
      "source": [
        "e"
      ],
      "execution_count": 114,
      "outputs": [
        {
          "output_type": "execute_result",
          "data": {
            "text/plain": [
              "2.718281828459045"
            ]
          },
          "metadata": {
            "tags": []
          },
          "execution_count": 114
        }
      ]
    },
    {
      "metadata": {
        "id": "V4b2H-GJVJ8O",
        "colab_type": "code",
        "colab": {}
      },
      "cell_type": "code",
      "source": [
        "from math import *"
      ],
      "execution_count": 0,
      "outputs": []
    },
    {
      "metadata": {
        "id": "NfGEF8mHVPhn",
        "colab_type": "code",
        "colab": {
          "base_uri": "https://localhost:8080/",
          "height": 34
        },
        "outputId": "94019437-3cd9-4354-afb2-9ea501f39fe8"
      },
      "cell_type": "code",
      "source": [
        "pi"
      ],
      "execution_count": 116,
      "outputs": [
        {
          "output_type": "execute_result",
          "data": {
            "text/plain": [
              "3.141592653589793"
            ]
          },
          "metadata": {
            "tags": []
          },
          "execution_count": 116
        }
      ]
    },
    {
      "metadata": {
        "id": "GPo6tMv4VQLC",
        "colab_type": "code",
        "colab": {}
      },
      "cell_type": "code",
      "source": [
        "# dir() method is used to know the names that are defined in a module"
      ],
      "execution_count": 0,
      "outputs": []
    },
    {
      "metadata": {
        "id": "aioMK0K1YjpL",
        "colab_type": "code",
        "colab": {
          "base_uri": "https://localhost:8080/",
          "height": 935
        },
        "outputId": "175d74a3-b0ed-49b5-8d63-4b05a946a987"
      },
      "cell_type": "code",
      "source": [
        "import math\n",
        "dir(math)"
      ],
      "execution_count": 119,
      "outputs": [
        {
          "output_type": "execute_result",
          "data": {
            "text/plain": [
              "['__doc__',\n",
              " '__loader__',\n",
              " '__name__',\n",
              " '__package__',\n",
              " '__spec__',\n",
              " 'acos',\n",
              " 'acosh',\n",
              " 'asin',\n",
              " 'asinh',\n",
              " 'atan',\n",
              " 'atan2',\n",
              " 'atanh',\n",
              " 'ceil',\n",
              " 'copysign',\n",
              " 'cos',\n",
              " 'cosh',\n",
              " 'degrees',\n",
              " 'e',\n",
              " 'erf',\n",
              " 'erfc',\n",
              " 'exp',\n",
              " 'expm1',\n",
              " 'fabs',\n",
              " 'factorial',\n",
              " 'floor',\n",
              " 'fmod',\n",
              " 'frexp',\n",
              " 'fsum',\n",
              " 'gamma',\n",
              " 'gcd',\n",
              " 'hypot',\n",
              " 'inf',\n",
              " 'isclose',\n",
              " 'isfinite',\n",
              " 'isinf',\n",
              " 'isnan',\n",
              " 'ldexp',\n",
              " 'lgamma',\n",
              " 'log',\n",
              " 'log10',\n",
              " 'log1p',\n",
              " 'log2',\n",
              " 'modf',\n",
              " 'nan',\n",
              " 'pi',\n",
              " 'pow',\n",
              " 'radians',\n",
              " 'sin',\n",
              " 'sinh',\n",
              " 'sqrt',\n",
              " 'tan',\n",
              " 'tanh',\n",
              " 'tau',\n",
              " 'trunc']"
            ]
          },
          "metadata": {
            "tags": []
          },
          "execution_count": 119
        }
      ]
    },
    {
      "metadata": {
        "id": "nHzLyQwgYmH_",
        "colab_type": "code",
        "colab": {
          "base_uri": "https://localhost:8080/",
          "height": 3876
        },
        "outputId": "5b19349c-0e57-4f5b-a5b5-f503f62fb9c0"
      },
      "cell_type": "code",
      "source": [
        "dir() # returns all the names defined in our current namespace"
      ],
      "execution_count": 122,
      "outputs": [
        {
          "output_type": "execute_result",
          "data": {
            "text/plain": [
              "['In',\n",
              " 'Out',\n",
              " '_',\n",
              " '_10',\n",
              " '_100',\n",
              " '_102',\n",
              " '_103',\n",
              " '_113',\n",
              " '_114',\n",
              " '_116',\n",
              " '_119',\n",
              " '_120',\n",
              " '_121',\n",
              " '_32',\n",
              " '_33',\n",
              " '_57',\n",
              " '_59',\n",
              " '_61',\n",
              " '_62',\n",
              " '_7',\n",
              " '_78',\n",
              " '_79',\n",
              " '_9',\n",
              " '__',\n",
              " '___',\n",
              " '__builtin__',\n",
              " '__builtins__',\n",
              " '__doc__',\n",
              " '__loader__',\n",
              " '__name__',\n",
              " '__package__',\n",
              " '__spec__',\n",
              " '_dh',\n",
              " '_i',\n",
              " '_i1',\n",
              " '_i10',\n",
              " '_i100',\n",
              " '_i101',\n",
              " '_i102',\n",
              " '_i103',\n",
              " '_i104',\n",
              " '_i105',\n",
              " '_i106',\n",
              " '_i107',\n",
              " '_i108',\n",
              " '_i109',\n",
              " '_i11',\n",
              " '_i110',\n",
              " '_i111',\n",
              " '_i112',\n",
              " '_i113',\n",
              " '_i114',\n",
              " '_i115',\n",
              " '_i116',\n",
              " '_i117',\n",
              " '_i118',\n",
              " '_i119',\n",
              " '_i12',\n",
              " '_i120',\n",
              " '_i121',\n",
              " '_i122',\n",
              " '_i13',\n",
              " '_i14',\n",
              " '_i15',\n",
              " '_i16',\n",
              " '_i17',\n",
              " '_i18',\n",
              " '_i19',\n",
              " '_i2',\n",
              " '_i20',\n",
              " '_i21',\n",
              " '_i22',\n",
              " '_i23',\n",
              " '_i24',\n",
              " '_i25',\n",
              " '_i26',\n",
              " '_i27',\n",
              " '_i28',\n",
              " '_i29',\n",
              " '_i3',\n",
              " '_i30',\n",
              " '_i31',\n",
              " '_i32',\n",
              " '_i33',\n",
              " '_i34',\n",
              " '_i35',\n",
              " '_i36',\n",
              " '_i37',\n",
              " '_i38',\n",
              " '_i39',\n",
              " '_i4',\n",
              " '_i40',\n",
              " '_i41',\n",
              " '_i42',\n",
              " '_i43',\n",
              " '_i44',\n",
              " '_i45',\n",
              " '_i46',\n",
              " '_i47',\n",
              " '_i48',\n",
              " '_i49',\n",
              " '_i5',\n",
              " '_i50',\n",
              " '_i51',\n",
              " '_i52',\n",
              " '_i53',\n",
              " '_i54',\n",
              " '_i55',\n",
              " '_i56',\n",
              " '_i57',\n",
              " '_i58',\n",
              " '_i59',\n",
              " '_i6',\n",
              " '_i60',\n",
              " '_i61',\n",
              " '_i62',\n",
              " '_i63',\n",
              " '_i64',\n",
              " '_i65',\n",
              " '_i66',\n",
              " '_i67',\n",
              " '_i68',\n",
              " '_i69',\n",
              " '_i7',\n",
              " '_i70',\n",
              " '_i71',\n",
              " '_i72',\n",
              " '_i73',\n",
              " '_i74',\n",
              " '_i75',\n",
              " '_i76',\n",
              " '_i77',\n",
              " '_i78',\n",
              " '_i79',\n",
              " '_i8',\n",
              " '_i80',\n",
              " '_i81',\n",
              " '_i82',\n",
              " '_i83',\n",
              " '_i84',\n",
              " '_i85',\n",
              " '_i86',\n",
              " '_i87',\n",
              " '_i88',\n",
              " '_i89',\n",
              " '_i9',\n",
              " '_i90',\n",
              " '_i91',\n",
              " '_i92',\n",
              " '_i93',\n",
              " '_i94',\n",
              " '_i95',\n",
              " '_i96',\n",
              " '_i97',\n",
              " '_i98',\n",
              " '_i99',\n",
              " '_ih',\n",
              " '_ii',\n",
              " '_iii',\n",
              " '_mem_usage',\n",
              " '_oh',\n",
              " '_sh',\n",
              " '_shell_customizations',\n",
              " 'absolute_value',\n",
              " 'acos',\n",
              " 'acosh',\n",
              " 'asin',\n",
              " 'asinh',\n",
              " 'atan',\n",
              " 'atan2',\n",
              " 'atanh',\n",
              " 'calc_factorial',\n",
              " 'ceil',\n",
              " 'copysign',\n",
              " 'cos',\n",
              " 'cosh',\n",
              " 'degrees',\n",
              " 'double',\n",
              " 'e',\n",
              " 'erf',\n",
              " 'erfc',\n",
              " 'exit',\n",
              " 'exp',\n",
              " 'expm1',\n",
              " 'fabs',\n",
              " 'factorial',\n",
              " 'floor',\n",
              " 'fmod',\n",
              " 'foo',\n",
              " 'frexp',\n",
              " 'fsum',\n",
              " 'gamma',\n",
              " 'gcd',\n",
              " 'get_ipython',\n",
              " 'greet',\n",
              " 'hypot',\n",
              " 'inf',\n",
              " 'isclose',\n",
              " 'isfinite',\n",
              " 'isinf',\n",
              " 'isnan',\n",
              " 'ldexp',\n",
              " 'lgamma',\n",
              " 'log',\n",
              " 'log10',\n",
              " 'log1p',\n",
              " 'log2',\n",
              " 'math',\n",
              " 'modf',\n",
              " 'my_func',\n",
              " 'my_list',\n",
              " 'nan',\n",
              " 'new_list',\n",
              " 'num',\n",
              " 'outer',\n",
              " 'pi',\n",
              " 'pow',\n",
              " 'quit',\n",
              " 'radians',\n",
              " 'sin',\n",
              " 'sinh',\n",
              " 'sqrt',\n",
              " 'tan',\n",
              " 'tanh',\n",
              " 'tau',\n",
              " 'trunc',\n",
              " 'x']"
            ]
          },
          "metadata": {
            "tags": []
          },
          "execution_count": 122
        }
      ]
    },
    {
      "metadata": {
        "id": "Qv3lKEEHZAbq",
        "colab_type": "code",
        "colab": {}
      },
      "cell_type": "code",
      "source": [
        "#********************************************************************************************************************\n",
        "# PACKAGES IN PYTHON\n",
        "# we keep similar files in the same directory, for example, we may keep all the songs in the \"music\" directory. \n",
        "# Analogous to this, Python has packages for directories and modules for files\n",
        "#********************************************************************************************************************"
      ],
      "execution_count": 0,
      "outputs": []
    }
  ]
}